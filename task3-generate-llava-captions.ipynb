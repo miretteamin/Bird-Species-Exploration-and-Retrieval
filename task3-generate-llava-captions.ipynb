{
 "cells": [
  {
   "cell_type": "markdown",
   "metadata": {},
   "source": [
    "```\n",
    "This notebook shows how we generated the llava_captions for the whole dataset by running batches and concatenating them at the end in a json file.\n",
    "\n",
    "```"
   ]
  },
  {
   "cell_type": "markdown",
   "metadata": {},
   "source": [
    "# Imports"
   ]
  },
  {
   "cell_type": "code",
   "execution_count": null,
   "metadata": {
    "_cell_guid": "b1076dfc-b9ad-4769-8c92-a6c4dae69d19",
    "_uuid": "8f2839f25d086af736a60e9eeb907d3b93b6e0e5",
    "execution": {
     "iopub.execute_input": "2025-03-10T21:11:22.354787Z",
     "iopub.status.busy": "2025-03-10T21:11:22.354440Z",
     "iopub.status.idle": "2025-03-10T21:12:43.295112Z",
     "shell.execute_reply": "2025-03-10T21:12:43.294272Z",
     "shell.execute_reply.started": "2025-03-10T21:11:22.354753Z"
    },
    "trusted": true
   },
   "outputs": [
    {
     "name": "stdout",
     "output_type": "stream",
     "text": [
      "Requirement already satisfied: ftfy in d:\\programs\\anaconda\\anaconda\\envs\\test\\lib\\site-packages (5.8)\n",
      "Requirement already satisfied: regex in d:\\programs\\anaconda\\anaconda\\envs\\test\\lib\\site-packages (2024.9.11)\n",
      "Requirement already satisfied: tqdm in d:\\programs\\anaconda\\anaconda\\envs\\test\\lib\\site-packages (4.66.5)\n",
      "Requirement already satisfied: wcwidth in c:\\users\\egypt\\appdata\\roaming\\python\\python39\\site-packages (from ftfy) (0.2.13)\n",
      "Requirement already satisfied: colorama in c:\\users\\egypt\\appdata\\roaming\\python\\python39\\site-packages (from tqdm) (0.4.6)\n",
      "Collecting git+https://github.com/openai/CLIP.git\n",
      "  Cloning https://github.com/openai/CLIP.git to c:\\users\\egypt\\appdata\\local\\temp\\pip-req-build-ubv0k7rj\n",
      "  Resolved https://github.com/openai/CLIP.git to commit dcba3cb2e2827b402d2701e7e1c7d9fed8a20ef1\n",
      "  Preparing metadata (setup.py): started\n",
      "  Preparing metadata (setup.py): finished with status 'done'\n",
      "Requirement already satisfied: ftfy in d:\\programs\\anaconda\\anaconda\\envs\\test\\lib\\site-packages (from clip==1.0) (5.8)\n",
      "Requirement already satisfied: packaging in c:\\users\\egypt\\appdata\\roaming\\python\\python39\\site-packages (from clip==1.0) (24.2)\n",
      "Requirement already satisfied: regex in d:\\programs\\anaconda\\anaconda\\envs\\test\\lib\\site-packages (from clip==1.0) (2024.9.11)\n",
      "Requirement already satisfied: tqdm in d:\\programs\\anaconda\\anaconda\\envs\\test\\lib\\site-packages (from clip==1.0) (4.66.5)\n",
      "Requirement already satisfied: torch in d:\\programs\\anaconda\\anaconda\\envs\\test\\lib\\site-packages (from clip==1.0) (1.10.1)\n",
      "Requirement already satisfied: torchvision in d:\\programs\\anaconda\\anaconda\\envs\\test\\lib\\site-packages (from clip==1.0) (0.11.2)\n",
      "Requirement already satisfied: wcwidth in c:\\users\\egypt\\appdata\\roaming\\python\\python39\\site-packages (from ftfy->clip==1.0) (0.2.13)\n",
      "Requirement already satisfied: typing_extensions in c:\\users\\egypt\\appdata\\roaming\\python\\python39\\site-packages (from torch->clip==1.0) (4.12.2)\n",
      "Requirement already satisfied: numpy in d:\\programs\\anaconda\\anaconda\\envs\\test\\lib\\site-packages (from torchvision->clip==1.0) (1.26.4)\n",
      "Requirement already satisfied: pillow!=8.3.0,>=5.3.0 in d:\\programs\\anaconda\\anaconda\\envs\\test\\lib\\site-packages (from torchvision->clip==1.0) (10.4.0)\n",
      "Requirement already satisfied: colorama in c:\\users\\egypt\\appdata\\roaming\\python\\python39\\site-packages (from tqdm->clip==1.0) (0.4.6)\n",
      "Building wheels for collected packages: clip\n",
      "  Building wheel for clip (setup.py): started\n",
      "  Building wheel for clip (setup.py): finished with status 'done'\n",
      "  Created wheel for clip: filename=clip-1.0-py3-none-any.whl size=1369570 sha256=62c95addecbaab850064d692edfb3d05db9aec32c5a2f1cdcd31e8b3c11d0b32\n",
      "  Stored in directory: C:\\Users\\EGYPT\\AppData\\Local\\Temp\\pip-ephem-wheel-cache-ih6wu0hp\\wheels\\c8\\e4\\e1\\11374c111387672fc2068dfbe0d4b424cb9cdd1b2e184a71b5\n",
      "Successfully built clip\n",
      "Installing collected packages: clip\n",
      "Successfully installed clip-1.0\n"
     ]
    },
    {
     "name": "stderr",
     "output_type": "stream",
     "text": [
      "  Running command git clone --filter=blob:none --quiet https://github.com/openai/CLIP.git 'C:\\Users\\EGYPT\\AppData\\Local\\Temp\\pip-req-build-ubv0k7rj'\n",
      "ERROR: pip's dependency resolver does not currently take into account all the packages that are installed. This behaviour is the source of the following dependency conflicts.\n",
      "torchaudio 0.10.1 requires torch==1.10.1, but you have torch 2.6.0 which is incompatible.\n",
      "torchvision 0.11.2 requires torch==1.10.1, but you have torch 2.6.0 which is incompatible.\n"
     ]
    },
    {
     "name": "stdout",
     "output_type": "stream",
     "text": [
      "^C\n"
     ]
    }
   ],
   "source": [
    "# !pip install ftfy regex tqdm\n",
    "# !pip install git+https://github.com/openai/CLIP.git\n",
    "# !pip install --upgrade -q accelerate bitsandbytes\n",
    "# !pip install git+https://github.com/huggingface/transformers.git\n",
    "from transformers import AutoProcessor, LlavaForConditionalGeneration\n",
    "from transformers import BitsAndBytesConfig\n",
    "import torch\n",
    "import torch.nn as nn\n",
    "from torchvision import transforms, datasets\n",
    "from torch.utils.data import Dataset, DataLoader, random_split\n",
    "import clip\n",
    "from PIL import Image\n",
    "import numpy as np\n",
    "import matplotlib.pyplot as plt\n",
    "import os, json\n",
    "import pandas as pd\n",
    "from tqdm import tqdm\n",
    "from sklearn.linear_model import LogisticRegression\n",
    "from sklearn.metrics import accuracy_score\n",
    "from sklearn.model_selection import train_test_split\n",
    "\n",
    "from utils import *"
   ]
  },
  {
   "cell_type": "code",
   "execution_count": 2,
   "metadata": {
    "execution": {
     "iopub.execute_input": "2025-03-10T21:12:43.296605Z",
     "iopub.status.busy": "2025-03-10T21:12:43.296000Z",
     "iopub.status.idle": "2025-03-10T21:12:43.304208Z",
     "shell.execute_reply": "2025-03-10T21:12:43.302978Z",
     "shell.execute_reply.started": "2025-03-10T21:12:43.296576Z"
    },
    "trusted": true
   },
   "outputs": [
    {
     "data": {
      "text/plain": [
       "'cuda'"
      ]
     },
     "execution_count": 2,
     "metadata": {},
     "output_type": "execute_result"
    }
   ],
   "source": [
    "device = \"cuda\" if torch.cuda.is_available() else \"cpu\"\n",
    "device"
   ]
  },
  {
   "cell_type": "markdown",
   "metadata": {},
   "source": [
    "# Load Dataset"
   ]
  },
  {
   "cell_type": "code",
   "execution_count": null,
   "metadata": {
    "execution": {
     "iopub.execute_input": "2025-03-10T21:12:43.306034Z",
     "iopub.status.busy": "2025-03-10T21:12:43.305617Z",
     "iopub.status.idle": "2025-03-10T21:12:43.340181Z",
     "shell.execute_reply": "2025-03-10T21:12:43.339098Z",
     "shell.execute_reply.started": "2025-03-10T21:12:43.305994Z"
    },
    "trusted": true
   },
   "outputs": [],
   "source": [
    "# Load the CUB-200-2011 dataset\n",
    "\n",
    "data_dir = '/kaggle/input/cub2002011/CUB_200_2011'\n",
    "images_dir = os.path.join(data_dir, 'images')\n",
    "parts_dir = os.path.join(data_dir, 'parts')\n",
    "\n",
    "images, labels, classes, bounding_boxes, parts, part_locs, parts_click_locs, attributes, certainties, image_attribute_labels, _ = load_cub_dataset(data_dir)\n",
    "\n",
    "print(images.head())\n",
    "print(labels.head())\n",
    "print(classes.head())\n",
    "\n",
    "print(images.shape)\n",
    "print(labels.shape)\n",
    "print(classes.shape)"
   ]
  },
  {
   "cell_type": "code",
   "execution_count": null,
   "metadata": {
    "trusted": true
   },
   "outputs": [],
   "source": [
    "data_transforms = transforms.Compose([\n",
    "    transforms.Resize((224, 224)),\n",
    "    transforms.ToTensor(),\n",
    "    transforms.Normalize(mean=(0.481, 0.457, 0.408), std=(0.268, 0.261, 0.275))\n",
    "])\n",
    "\n",
    "quantization_config = BitsAndBytesConfig(load_in_4bit=True, bnb_4bit_compute_dtype=torch.float16)\n",
    "llava_model_id = \"llava-hf/llava-1.5-7b-hf\"\n",
    "llava_processor = AutoProcessor.from_pretrained(llava_model_id)\n",
    "llava_model  = LlavaForConditionalGeneration.from_pretrained(llava_model_id, quantization_config=quantization_config, device_map=\"auto\")"
   ]
  },
  {
   "cell_type": "code",
   "execution_count": null,
   "metadata": {
    "execution": {
     "iopub.execute_input": "2025-03-10T21:29:16.786773Z",
     "iopub.status.busy": "2025-03-10T21:29:16.786410Z",
     "iopub.status.idle": "2025-03-10T21:31:54.069362Z",
     "shell.execute_reply": "2025-03-10T21:31:54.067833Z",
     "shell.execute_reply.started": "2025-03-10T21:29:16.786746Z"
    },
    "trusted": true
   },
   "outputs": [
    {
     "name": "stderr",
     "output_type": "stream",
     "text": [
      "Processing Images in batch: 100%|██████████| 5/5 [01:50<00:00, 22.05s/it]\n"
     ]
    },
    {
     "name": "stdout",
     "output_type": "stream",
     "text": [
      "Saved batch: processed_batches/batch_5000_5005.json\n"
     ]
    },
    {
     "name": "stderr",
     "output_type": "stream",
     "text": [
      "Processing Images in batch:  20%|██        | 1/5 [00:39<02:37, 39.35s/it]\n"
     ]
    },
    {
     "ename": "KeyboardInterrupt",
     "evalue": "",
     "output_type": "error",
     "traceback": [
      "\u001b[0;31m---------------------------------------------------------------------------\u001b[0m",
      "\u001b[0;31mKeyboardInterrupt\u001b[0m                         Traceback (most recent call last)",
      "\u001b[0;32m<ipython-input-17-b0241a86c8d6>\u001b[0m in \u001b[0;36m<cell line: 200>\u001b[0;34m()\u001b[0m\n\u001b[1;32m    198\u001b[0m \u001b[0mimage_dir\u001b[0m \u001b[0;34m=\u001b[0m \u001b[0;34m\"/kaggle/input/cub2002011/CUB_200_2011/images\"\u001b[0m\u001b[0;34m\u001b[0m\u001b[0;34m\u001b[0m\u001b[0m\n\u001b[1;32m    199\u001b[0m \u001b[0;34m\u001b[0m\u001b[0m\n\u001b[0;32m--> 200\u001b[0;31m \u001b[0mcustom_dataset\u001b[0m \u001b[0;34m=\u001b[0m \u001b[0mCustomDataset\u001b[0m\u001b[0;34m(\u001b[0m\u001b[0mimage_dir\u001b[0m\u001b[0;34m,\u001b[0m \u001b[0mstart\u001b[0m\u001b[0;34m=\u001b[0m\u001b[0;36m5000\u001b[0m\u001b[0;34m,\u001b[0m \u001b[0mend\u001b[0m \u001b[0;34m=\u001b[0m \u001b[0;36m5010\u001b[0m\u001b[0;34m,\u001b[0m \u001b[0mprocess_batches\u001b[0m\u001b[0;34m=\u001b[0m\u001b[0;32mTrue\u001b[0m\u001b[0;34m,\u001b[0m \u001b[0mtransform\u001b[0m\u001b[0;34m=\u001b[0m\u001b[0mdata_transforms\u001b[0m\u001b[0;34m,\u001b[0m \u001b[0mbatch_size\u001b[0m\u001b[0;34m=\u001b[0m\u001b[0;36m5\u001b[0m\u001b[0;34m)\u001b[0m\u001b[0;34m\u001b[0m\u001b[0;34m\u001b[0m\u001b[0m\n\u001b[0m\u001b[1;32m    201\u001b[0m \u001b[0;34m\u001b[0m\u001b[0m\n\u001b[1;32m    202\u001b[0m \u001b[0;31m# Example usage\u001b[0m\u001b[0;34m\u001b[0m\u001b[0;34m\u001b[0m\u001b[0m\n",
      "\u001b[0;32m<ipython-input-17-b0241a86c8d6>\u001b[0m in \u001b[0;36m__init__\u001b[0;34m(self, data_dir, start, end, process_batches, transform, use_llava, batch_size, save_dir)\u001b[0m\n\u001b[1;32m     43\u001b[0m                     })\n\u001b[1;32m     44\u001b[0m         \u001b[0;32mif\u001b[0m \u001b[0;34m(\u001b[0m\u001b[0mprocess_batches\u001b[0m\u001b[0;34m)\u001b[0m\u001b[0;34m:\u001b[0m\u001b[0;34m\u001b[0m\u001b[0;34m\u001b[0m\u001b[0m\n\u001b[0;32m---> 45\u001b[0;31m             \u001b[0mself\u001b[0m\u001b[0;34m.\u001b[0m\u001b[0mprocess_batches\u001b[0m\u001b[0;34m(\u001b[0m\u001b[0mimages_df\u001b[0m\u001b[0;34m)\u001b[0m\u001b[0;34m\u001b[0m\u001b[0;34m\u001b[0m\u001b[0m\n\u001b[0m\u001b[1;32m     46\u001b[0m \u001b[0;34m\u001b[0m\u001b[0m\n\u001b[1;32m     47\u001b[0m     \u001b[0;31m# def process_batches(self, images_df):\u001b[0m\u001b[0;34m\u001b[0m\u001b[0;34m\u001b[0m\u001b[0m\n",
      "\u001b[0;32m<ipython-input-17-b0241a86c8d6>\u001b[0m in \u001b[0;36mprocess_batches\u001b[0;34m(self, images_df)\u001b[0m\n\u001b[1;32m    120\u001b[0m                 \u001b[0;31m# Generate Llava text\u001b[0m\u001b[0;34m\u001b[0m\u001b[0;34m\u001b[0m\u001b[0m\n\u001b[1;32m    121\u001b[0m                 \u001b[0;32mif\u001b[0m \u001b[0mself\u001b[0m\u001b[0;34m.\u001b[0m\u001b[0muse_llava\u001b[0m\u001b[0;34m:\u001b[0m\u001b[0;34m\u001b[0m\u001b[0;34m\u001b[0m\u001b[0m\n\u001b[0;32m--> 122\u001b[0;31m                     \u001b[0mllava_text\u001b[0m \u001b[0;34m=\u001b[0m \u001b[0mself\u001b[0m\u001b[0;34m.\u001b[0m\u001b[0mgenerate_llava_prompt\u001b[0m\u001b[0;34m(\u001b[0m\u001b[0mimg_path\u001b[0m\u001b[0;34m,\u001b[0m \u001b[0mparts\u001b[0m\u001b[0;34m,\u001b[0m \u001b[0mclass_name\u001b[0m\u001b[0;34m)\u001b[0m\u001b[0;34m\u001b[0m\u001b[0;34m\u001b[0m\u001b[0m\n\u001b[0m\u001b[1;32m    123\u001b[0m                 \u001b[0;32melse\u001b[0m\u001b[0;34m:\u001b[0m\u001b[0;34m\u001b[0m\u001b[0;34m\u001b[0m\u001b[0m\n\u001b[1;32m    124\u001b[0m                     \u001b[0mllava_text\u001b[0m \u001b[0;34m=\u001b[0m \u001b[0;34m\"No description available.\"\u001b[0m\u001b[0;34m\u001b[0m\u001b[0;34m\u001b[0m\u001b[0m\n",
      "\u001b[0;32m<ipython-input-17-b0241a86c8d6>\u001b[0m in \u001b[0;36mgenerate_llava_prompt\u001b[0;34m(self, img_path, visible_parts, class_name)\u001b[0m\n\u001b[1;32m    187\u001b[0m             \u001b[0mimage\u001b[0m \u001b[0;34m=\u001b[0m \u001b[0mImage\u001b[0m\u001b[0;34m.\u001b[0m\u001b[0mopen\u001b[0m\u001b[0;34m(\u001b[0m\u001b[0mimg_path\u001b[0m\u001b[0;34m)\u001b[0m\u001b[0;34m.\u001b[0m\u001b[0mconvert\u001b[0m\u001b[0;34m(\u001b[0m\u001b[0;34m\"RGB\"\u001b[0m\u001b[0;34m)\u001b[0m\u001b[0;34m\u001b[0m\u001b[0;34m\u001b[0m\u001b[0m\n\u001b[1;32m    188\u001b[0m             \u001b[0minputs\u001b[0m \u001b[0;34m=\u001b[0m \u001b[0mllava_processor\u001b[0m\u001b[0;34m(\u001b[0m\u001b[0mtext\u001b[0m\u001b[0;34m=\u001b[0m\u001b[0mprompt\u001b[0m\u001b[0;34m,\u001b[0m \u001b[0mimages\u001b[0m\u001b[0;34m=\u001b[0m\u001b[0;34m[\u001b[0m\u001b[0mimage\u001b[0m\u001b[0;34m]\u001b[0m\u001b[0;34m,\u001b[0m \u001b[0mpadding\u001b[0m\u001b[0;34m=\u001b[0m\u001b[0;32mTrue\u001b[0m\u001b[0;34m,\u001b[0m \u001b[0mreturn_tensors\u001b[0m\u001b[0;34m=\u001b[0m\u001b[0;34m\"pt\"\u001b[0m\u001b[0;34m)\u001b[0m\u001b[0;34m.\u001b[0m\u001b[0mto\u001b[0m\u001b[0;34m(\u001b[0m\u001b[0;34m\"cuda\"\u001b[0m\u001b[0;34m)\u001b[0m\u001b[0;34m\u001b[0m\u001b[0;34m\u001b[0m\u001b[0m\n\u001b[0;32m--> 189\u001b[0;31m             \u001b[0moutput\u001b[0m \u001b[0;34m=\u001b[0m \u001b[0mllava_model\u001b[0m\u001b[0;34m.\u001b[0m\u001b[0mgenerate\u001b[0m\u001b[0;34m(\u001b[0m\u001b[0;34m**\u001b[0m\u001b[0minputs\u001b[0m\u001b[0;34m,\u001b[0m \u001b[0mmax_new_tokens\u001b[0m\u001b[0;34m=\u001b[0m\u001b[0;36m1000\u001b[0m\u001b[0;34m)\u001b[0m\u001b[0;34m\u001b[0m\u001b[0;34m\u001b[0m\u001b[0m\n\u001b[0m\u001b[1;32m    190\u001b[0m             \u001b[0mgenerated_text\u001b[0m \u001b[0;34m=\u001b[0m \u001b[0mllava_processor\u001b[0m\u001b[0;34m.\u001b[0m\u001b[0mbatch_decode\u001b[0m\u001b[0;34m(\u001b[0m\u001b[0moutput\u001b[0m\u001b[0;34m,\u001b[0m \u001b[0mskip_special_tokens\u001b[0m\u001b[0;34m=\u001b[0m\u001b[0;32mTrue\u001b[0m\u001b[0;34m)\u001b[0m\u001b[0;34m\u001b[0m\u001b[0;34m\u001b[0m\u001b[0m\n\u001b[1;32m    191\u001b[0m \u001b[0;34m\u001b[0m\u001b[0m\n",
      "\u001b[0;32m/usr/local/lib/python3.10/dist-packages/torch/utils/_contextlib.py\u001b[0m in \u001b[0;36mdecorate_context\u001b[0;34m(*args, **kwargs)\u001b[0m\n\u001b[1;32m    114\u001b[0m     \u001b[0;32mdef\u001b[0m \u001b[0mdecorate_context\u001b[0m\u001b[0;34m(\u001b[0m\u001b[0;34m*\u001b[0m\u001b[0margs\u001b[0m\u001b[0;34m,\u001b[0m \u001b[0;34m**\u001b[0m\u001b[0mkwargs\u001b[0m\u001b[0;34m)\u001b[0m\u001b[0;34m:\u001b[0m\u001b[0;34m\u001b[0m\u001b[0;34m\u001b[0m\u001b[0m\n\u001b[1;32m    115\u001b[0m         \u001b[0;32mwith\u001b[0m \u001b[0mctx_factory\u001b[0m\u001b[0;34m(\u001b[0m\u001b[0;34m)\u001b[0m\u001b[0;34m:\u001b[0m\u001b[0;34m\u001b[0m\u001b[0;34m\u001b[0m\u001b[0m\n\u001b[0;32m--> 116\u001b[0;31m             \u001b[0;32mreturn\u001b[0m \u001b[0mfunc\u001b[0m\u001b[0;34m(\u001b[0m\u001b[0;34m*\u001b[0m\u001b[0margs\u001b[0m\u001b[0;34m,\u001b[0m \u001b[0;34m**\u001b[0m\u001b[0mkwargs\u001b[0m\u001b[0;34m)\u001b[0m\u001b[0;34m\u001b[0m\u001b[0;34m\u001b[0m\u001b[0m\n\u001b[0m\u001b[1;32m    117\u001b[0m \u001b[0;34m\u001b[0m\u001b[0m\n\u001b[1;32m    118\u001b[0m     \u001b[0;32mreturn\u001b[0m \u001b[0mdecorate_context\u001b[0m\u001b[0;34m\u001b[0m\u001b[0;34m\u001b[0m\u001b[0m\n",
      "\u001b[0;32m/usr/local/lib/python3.10/dist-packages/transformers/generation/utils.py\u001b[0m in \u001b[0;36mgenerate\u001b[0;34m(self, inputs, generation_config, logits_processor, stopping_criteria, prefix_allowed_tokens_fn, synced_gpus, assistant_model, streamer, negative_prompt_ids, negative_prompt_attention_mask, **kwargs)\u001b[0m\n\u001b[1;32m   2248\u001b[0m \u001b[0;34m\u001b[0m\u001b[0m\n\u001b[1;32m   2249\u001b[0m             \u001b[0;31m# 12. run sample (it degenerates to greedy search when `generation_config.do_sample=False`)\u001b[0m\u001b[0;34m\u001b[0m\u001b[0;34m\u001b[0m\u001b[0m\n\u001b[0;32m-> 2250\u001b[0;31m             result = self._sample(\n\u001b[0m\u001b[1;32m   2251\u001b[0m                 \u001b[0minput_ids\u001b[0m\u001b[0;34m,\u001b[0m\u001b[0;34m\u001b[0m\u001b[0;34m\u001b[0m\u001b[0m\n\u001b[1;32m   2252\u001b[0m                 \u001b[0mlogits_processor\u001b[0m\u001b[0;34m=\u001b[0m\u001b[0mprepared_logits_processor\u001b[0m\u001b[0;34m,\u001b[0m\u001b[0;34m\u001b[0m\u001b[0;34m\u001b[0m\u001b[0m\n",
      "\u001b[0;32m/usr/local/lib/python3.10/dist-packages/transformers/generation/utils.py\u001b[0m in \u001b[0;36m_sample\u001b[0;34m(self, input_ids, logits_processor, stopping_criteria, generation_config, synced_gpus, streamer, **model_kwargs)\u001b[0m\n\u001b[1;32m   3225\u001b[0m \u001b[0;34m\u001b[0m\u001b[0m\n\u001b[1;32m   3226\u001b[0m         \u001b[0mis_prefill\u001b[0m \u001b[0;34m=\u001b[0m \u001b[0;32mTrue\u001b[0m\u001b[0;34m\u001b[0m\u001b[0;34m\u001b[0m\u001b[0m\n\u001b[0;32m-> 3227\u001b[0;31m         while self._has_unfinished_sequences(\n\u001b[0m\u001b[1;32m   3228\u001b[0m             \u001b[0mthis_peer_finished\u001b[0m\u001b[0;34m,\u001b[0m \u001b[0msynced_gpus\u001b[0m\u001b[0;34m,\u001b[0m \u001b[0mdevice\u001b[0m\u001b[0;34m=\u001b[0m\u001b[0minput_ids\u001b[0m\u001b[0;34m.\u001b[0m\u001b[0mdevice\u001b[0m\u001b[0;34m,\u001b[0m \u001b[0mcur_len\u001b[0m\u001b[0;34m=\u001b[0m\u001b[0mcur_len\u001b[0m\u001b[0;34m,\u001b[0m \u001b[0mmax_length\u001b[0m\u001b[0;34m=\u001b[0m\u001b[0mmax_length\u001b[0m\u001b[0;34m\u001b[0m\u001b[0;34m\u001b[0m\u001b[0m\n\u001b[1;32m   3229\u001b[0m         ):\n",
      "\u001b[0;32m/usr/local/lib/python3.10/dist-packages/transformers/generation/utils.py\u001b[0m in \u001b[0;36m_has_unfinished_sequences\u001b[0;34m(self, this_peer_finished, synced_gpus, device, cur_len, max_length)\u001b[0m\n\u001b[1;32m   2426\u001b[0m                 \u001b[0;32mif\u001b[0m \u001b[0mthis_peer_finished_flag\u001b[0m\u001b[0;34m.\u001b[0m\u001b[0mitem\u001b[0m\u001b[0;34m(\u001b[0m\u001b[0;34m)\u001b[0m \u001b[0;34m==\u001b[0m \u001b[0;36m0.0\u001b[0m\u001b[0;34m:\u001b[0m\u001b[0;34m\u001b[0m\u001b[0;34m\u001b[0m\u001b[0m\n\u001b[1;32m   2427\u001b[0m                     \u001b[0;32mreturn\u001b[0m \u001b[0;32mFalse\u001b[0m\u001b[0;34m\u001b[0m\u001b[0;34m\u001b[0m\u001b[0m\n\u001b[0;32m-> 2428\u001b[0;31m             \u001b[0;32melif\u001b[0m \u001b[0mthis_peer_finished\u001b[0m\u001b[0;34m:\u001b[0m\u001b[0;34m\u001b[0m\u001b[0;34m\u001b[0m\u001b[0m\n\u001b[0m\u001b[1;32m   2429\u001b[0m                 \u001b[0;32mreturn\u001b[0m \u001b[0;32mFalse\u001b[0m\u001b[0;34m\u001b[0m\u001b[0;34m\u001b[0m\u001b[0m\n\u001b[1;32m   2430\u001b[0m             \u001b[0;32mreturn\u001b[0m \u001b[0;32mTrue\u001b[0m\u001b[0;34m\u001b[0m\u001b[0;34m\u001b[0m\u001b[0m\n",
      "\u001b[0;31mKeyboardInterrupt\u001b[0m: "
     ]
    }
   ],
   "source": [
    "class CustomDataset(Dataset):\n",
    "    def __init__(self, data_dir, start, end, process_batches=True, transform=None, use_llava=True, batch_size=500, save_dir=\"processed_batches\"):\n",
    "        self.transform = transform\n",
    "        self.image_dir = data_dir\n",
    "        self.image_paths = []\n",
    "        self.labels = []\n",
    "        self.parts_annotations = {}\n",
    "        self.text_prompts = {}\n",
    "        self.use_llava = use_llava\n",
    "        self.batch_size = batch_size\n",
    "        self.save_dir = save_dir\n",
    "        self.start_idx = start\n",
    "        self.end_idx = end\n",
    "\n",
    "        os.makedirs(save_dir, exist_ok=True)\n",
    "\n",
    "        self.classes = sorted(os.listdir(data_dir))\n",
    "        self.class_to_idx = {cls_name: idx for idx, cls_name in enumerate(self.classes)}\n",
    "\n",
    "        images_file = os.path.join(os.path.dirname(data_dir), 'images.txt')\n",
    "        images_df = pd.read_csv(images_file, sep=' ', names=['image_id', 'file_path'], index_col=0)\n",
    "\n",
    "        parts_file = os.path.join(os.path.dirname(data_dir), 'parts', 'parts.txt')\n",
    "        parts_df = pd.read_fwf(parts_file, colspecs=[(0, 2), (2, None)], header=None, names=['part_id', 'part_name'])\n",
    "        parts_df.set_index('part_id', inplace=True)\n",
    "        self.part_names = parts_df.to_dict()['part_name']\n",
    "\n",
    "        part_locs_file = os.path.join(os.path.dirname(data_dir), 'parts', 'part_locs.txt')\n",
    "        part_locs_df = pd.read_csv(part_locs_file, sep=r'\\s+', names=['image_id', 'part_id', 'x', 'y', 'visible'])\n",
    "\n",
    "        for _, row in part_locs_df.iterrows():\n",
    "            if row['visible'] == 1:\n",
    "                image_id = int(row['image_id'])\n",
    "                part_id = int(row['part_id'])\n",
    "\n",
    "                if part_id in self.part_names:\n",
    "                    if image_id not in self.parts_annotations:\n",
    "                        self.parts_annotations[image_id] = []\n",
    "                    self.parts_annotations[image_id].append({\n",
    "                        'part_name': self.part_names[part_id],\n",
    "                        'x': row['x'],\n",
    "                        'y': row['y']\n",
    "                    })\n",
    "        if (process_batches):\n",
    "            self.process_batches(images_df)\n",
    "\n",
    "    def process_batches(self, images_df):\n",
    "        num_images = self.end_idx - self.start_idx\n",
    "        num_batches = (num_images // self.batch_size) + 1\n",
    "    \n",
    "        for batch_idx in range(num_batches):\n",
    "            batch_start = batch_idx * self.batch_size + self.start_idx\n",
    "            batch_end = min(batch_start + self.batch_size, len(images_df))\n",
    "            batch_file = os.path.join(self.save_dir, f\"batch_{batch_start}_{batch_end}.json\")\n",
    "    \n",
    "            # skip batch if it's already processed\n",
    "            # if os.path.exists(batch_file):\n",
    "            #     print(f\"Loaded existing batch: {batch_file}\")\n",
    "            #     continue\n",
    "    \n",
    "            batch_data = {}\n",
    "    \n",
    "            for image_id, row in tqdm(images_df.iloc[batch_start:batch_end].iterrows(),total=batch_end - batch_start, desc=\"Processing Images in batch\"):\n",
    "                file_path = row['file_path']\n",
    "                class_name = file_path.split('/')[0]  # get class name from path\n",
    "                img_path = os.path.join(self.image_dir, file_path)\n",
    "    \n",
    "                parts = self.parts_annotations.get(image_id, [])\n",
    "    \n",
    "                if self.use_llava:\n",
    "                    llava_text = self.generate_llava_prompt(img_path, parts, class_name)\n",
    "                else:\n",
    "                    llava_text = \"No description available.\"\n",
    "    \n",
    "                # save full dataset info\n",
    "                batch_data[str(image_id)] = {\n",
    "                    \"image_path\": img_path,\n",
    "                    \"class_label\": class_name,\n",
    "                    \"parts\": parts,\n",
    "                    \"llava_text\": llava_text\n",
    "                }\n",
    "    \n",
    "            \n",
    "            with open(batch_file, \"w\") as f:\n",
    "                json.dump(batch_data, f, indent=4)\n",
    "    \n",
    "            print(f\"Saved batch: {batch_file}\")\n",
    "\n",
    "\n",
    "    def __len__(self):\n",
    "        return len(self.text_prompts) \n",
    "\n",
    "    def __getitem__(self, idx):\n",
    "        img_path = self.image_paths[idx]\n",
    "        label = self.labels[idx]\n",
    "    \n",
    "        image = Image.open(img_path).convert(\"RGB\")\n",
    "        if self.transform:\n",
    "            image = self.transform(image)\n",
    "    \n",
    "        image_id = list(self.parts_annotations.keys())[idx]\n",
    "    \n",
    "        # Load saved batch file and extract info (Metadata)\n",
    "        batch_file = os.path.join(self.save_dir, f\"batch_{image_id // self.batch_size * self.batch_size}_{(image_id // self.batch_size + 1) * self.batch_size}.json\")\n",
    "    \n",
    "        if os.path.exists(batch_file):\n",
    "            with open(batch_file, \"r\") as f:\n",
    "                batch_data = json.load(f)\n",
    "            image_data = batch_data.get(str(image_id), {})\n",
    "    \n",
    "            parts = image_data.get(\"parts\", [])\n",
    "            text = image_data.get(\"llava_text\", \"No description available.\")\n",
    "        else:\n",
    "            parts = self.parts_annotations.get(image_id, [])\n",
    "            text = \"No description available.\"\n",
    "    \n",
    "        return image, torch.tensor(label, dtype=torch.long), parts, text\n",
    "\n",
    "\n",
    "    def generate_llava_prompt(self, img_path, visible_parts, class_name):\n",
    "        if not visible_parts:\n",
    "            return f\"Describe the bird in the picture. It is a {class_name}.\"\n",
    "\n",
    "        prompts = [f\"USER: <image>\\nPlease describe the {part['part_name']} of the bird in the picture in one sentence.\\nASSISTANT:\" for part in visible_parts]\n",
    "        prompts.append(f\"USER: <image>\\nPlease describe the environment of the image given that the bird is a {class_name}.\\nASSISTANT:\")\n",
    "\n",
    "        generated_caption = []\n",
    "        for prompt in prompts:\n",
    "            # print(\"test\")\n",
    "            image = Image.open(img_path).convert(\"RGB\")\n",
    "            inputs = llava_processor(text=prompt, images=[image], padding=True, return_tensors=\"pt\").to(\"cuda\")\n",
    "            output = llava_model.generate(**inputs, max_new_tokens=1000)\n",
    "            generated_text = llava_processor.batch_decode(output, skip_special_tokens=True)\n",
    "\n",
    "            for text in generated_text:\n",
    "                generated_caption.append(text.split(\"ASSISTANT:\")[-1])\n",
    "\n",
    "        return \" \".join(generated_caption)\n",
    "\n",
    "\n",
    "image_dir = \"/data/CUB_200_2011/images\"\n",
    "\n",
    "custom_dataset = CustomDataset(image_dir, start=5000, end = 6000,\n",
    "                               process_batches=True, transform=data_transforms, batch_size=100)\n",
    "\n",
    "\n",
    "ex_image, ex_label, ex_parts, ex_text = custom_dataset[0]\n",
    "print(f\"Class Label: {ex_label}, Visible Parts: {ex_parts}\")\n",
    "print(f\"Llava-Generated Text: {ex_text}\")\n"
   ]
  }
 ],
 "metadata": {
  "kaggle": {
   "accelerator": "gpu",
   "dataSources": [
    {
     "datasetId": 2534241,
     "sourceId": 5140550,
     "sourceType": "datasetVersion"
    }
   ],
   "dockerImageVersionId": 30919,
   "isGpuEnabled": true,
   "isInternetEnabled": true,
   "language": "python",
   "sourceType": "notebook"
  },
  "kernelspec": {
   "display_name": "cvEnv",
   "language": "python",
   "name": "python3"
  },
  "language_info": {
   "codemirror_mode": {
    "name": "ipython",
    "version": 3
   },
   "file_extension": ".py",
   "mimetype": "text/x-python",
   "name": "python",
   "nbconvert_exporter": "python",
   "pygments_lexer": "ipython3",
   "version": "3.10.0"
  }
 },
 "nbformat": 4,
 "nbformat_minor": 4
}
