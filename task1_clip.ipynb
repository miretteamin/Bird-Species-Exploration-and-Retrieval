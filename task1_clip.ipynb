{
 "cells": [
  {
   "cell_type": "code",
   "execution_count": 1,
   "metadata": {
    "execution": {
     "iopub.execute_input": "2025-03-05T07:50:37.945922Z",
     "iopub.status.busy": "2025-03-05T07:50:37.945515Z",
     "iopub.status.idle": "2025-03-05T07:50:53.859676Z",
     "shell.execute_reply": "2025-03-05T07:50:53.858767Z",
     "shell.execute_reply.started": "2025-03-05T07:50:37.945880Z"
    },
    "trusted": true
   },
   "outputs": [
    {
     "name": "stderr",
     "output_type": "stream",
     "text": [
      "d:\\Programs\\Anaconda\\Anaconda\\envs\\clip\\lib\\site-packages\\tqdm\\auto.py:21: TqdmWarning: IProgress not found. Please update jupyter and ipywidgets. See https://ipywidgets.readthedocs.io/en/stable/user_install.html\n",
      "  from .autonotebook import tqdm as notebook_tqdm\n"
     ]
    }
   ],
   "source": [
    "# !pip install ftfy regex tqdm\n",
    "# !pip install git+https://github.com/openai/CLIP.git\n",
    "import torch\n",
    "import clip\n",
    "from PIL import Image\n",
    "import numpy as np\n",
    "import matplotlib.pyplot as plt\n",
    "import os\n",
    "import pandas as pd\n",
    "from tqdm import tqdm"
   ]
  },
  {
   "cell_type": "markdown",
   "metadata": {},
   "source": [
    "### Hyperparameters"
   ]
  },
  {
   "cell_type": "code",
   "execution_count": 2,
   "metadata": {
    "execution": {
     "iopub.execute_input": "2025-03-05T07:50:53.861317Z",
     "iopub.status.busy": "2025-03-05T07:50:53.860895Z",
     "iopub.status.idle": "2025-03-05T07:50:53.867152Z",
     "shell.execute_reply": "2025-03-05T07:50:53.866160Z",
     "shell.execute_reply.started": "2025-03-05T07:50:53.861282Z"
    },
    "trusted": true
   },
   "outputs": [
    {
     "data": {
      "text/plain": [
       "'cuda'"
      ]
     },
     "execution_count": 2,
     "metadata": {},
     "output_type": "execute_result"
    }
   ],
   "source": [
    "DEVICE = \"cuda\" if torch.cuda.is_available() else \"cpu\"\n",
    "DEVICE"
   ]
  },
  {
   "cell_type": "markdown",
   "metadata": {},
   "source": [
    "### Dataset"
   ]
  },
  {
   "cell_type": "code",
   "execution_count": 3,
   "metadata": {
    "execution": {
     "iopub.execute_input": "2025-03-05T07:50:53.868959Z",
     "iopub.status.busy": "2025-03-05T07:50:53.868714Z",
     "iopub.status.idle": "2025-03-05T07:50:53.943176Z",
     "shell.execute_reply": "2025-03-05T07:50:53.942546Z",
     "shell.execute_reply.started": "2025-03-05T07:50:53.868940Z"
    },
    "trusted": true
   },
   "outputs": [
    {
     "name": "stdout",
     "output_type": "stream",
     "text": [
      "   image_id                                          file_path\n",
      "0         1  001.Black_footed_Albatross/Black_Footed_Albatr...\n",
      "1         2  001.Black_footed_Albatross/Black_Footed_Albatr...\n",
      "2         3  001.Black_footed_Albatross/Black_Footed_Albatr...\n",
      "3         4  001.Black_footed_Albatross/Black_Footed_Albatr...\n",
      "4         5  001.Black_footed_Albatross/Black_Footed_Albatr...\n",
      "   image_id  class_id\n",
      "0         1         1\n",
      "1         2         1\n",
      "2         3         1\n",
      "3         4         1\n",
      "4         5         1\n",
      "   class_id                  class_name\n",
      "0         1  001.Black_footed_Albatross\n",
      "1         2        002.Laysan_Albatross\n",
      "2         3         003.Sooty_Albatross\n",
      "3         4       004.Groove_billed_Ani\n",
      "4         5          005.Crested_Auklet\n",
      "(11788, 2)\n",
      "(11788, 2)\n",
      "(200, 2)\n"
     ]
    }
   ],
   "source": [
    "# Load the CUB-200-2011 dataset\n",
    "def load_cub_dataset(data_dir):\n",
    "    images = pd.read_csv(os.path.join(data_dir, 'images.txt'), sep=' ', names=['image_id', 'file_path'])\n",
    "    labels = pd.read_csv(os.path.join(data_dir, 'image_class_labels.txt'), sep=' ', names=['image_id', 'class_id'])\n",
    "    classes = pd.read_csv(os.path.join(data_dir, 'classes.txt'), sep=' ', names=['class_id', 'class_name'])\n",
    "    return images, labels, classes\n",
    "data_dir = '/kaggle/input/cub2002011/CUB_200_2011'\n",
    "\n",
    "images, labels, classes = load_cub_dataset(data_dir)\n",
    "\n",
    "print(images.head())\n",
    "print(labels.head())\n",
    "print(classes.head())\n",
    "\n",
    "print(images.shape)\n",
    "print(labels.shape)\n",
    "print(classes.shape)"
   ]
  },
  {
   "cell_type": "markdown",
   "metadata": {},
   "source": [
    "## Task 1"
   ]
  },
  {
   "cell_type": "markdown",
   "metadata": {},
   "source": [
    "### CLIP"
   ]
  },
  {
   "cell_type": "code",
   "execution_count": 4,
   "metadata": {
    "execution": {
     "iopub.execute_input": "2025-03-05T07:50:53.944109Z",
     "iopub.status.busy": "2025-03-05T07:50:53.943892Z",
     "iopub.status.idle": "2025-03-05T07:51:01.776135Z",
     "shell.execute_reply": "2025-03-05T07:51:01.775459Z",
     "shell.execute_reply.started": "2025-03-05T07:50:53.944060Z"
    },
    "trusted": true
   },
   "outputs": [
    {
     "name": "stderr",
     "output_type": "stream",
     "text": [
      "100%|████████████████████████████████████████| 338M/338M [00:02<00:00, 149MiB/s]\n"
     ]
    }
   ],
   "source": [
    "clip_model, clip_preprocess = clip.load(\"ViT-B/32\", device=DEVICE, jit=False)\n",
    "clip_model.eval()\n",
    "\n",
    "def get_clip_features(img_path):\n",
    "    img = Image.open(img_path)\n",
    "    img_input = clip_preprocess(img).unsqueeze(0).to(DEVICE)\n",
    "    with torch.no_grad():\n",
    "        img_features = clip_model.encode_image(img_input)\n",
    "    return img_features\n",
    "\n",
    "def get_clip_text_features(text):\n",
    "    text_input = clip.tokenize([text]).to(DEVICE)\n",
    "    with torch.no_grad():\n",
    "        text_features = clip_model.encode_text(text_input)\n",
    "    return text_features\n",
    "\n",
    "def get_clip_similarity_score(img_features, text_features):\n",
    "    img_features /= img_features.norm(dim=-1, keepdim=True)\n",
    "    text_features /= text_features.norm(dim=-1, keepdim=True)\n",
    "    similarity_score = (100.0 * img_features @ text_features.T).softmax(dim=-1)\n",
    "    return similarity_score.item()\n",
    "\n",
    "def get_cosine_similarity(img_features: torch.Tensor, txt_features: torch.Tensor) -> torch.Tensor:\n",
    "    \"\"\"\n",
    "    Computes the cosine similarity between image and text feature tensors.\n",
    "    \n",
    "    Parameters:\n",
    "    img_features (torch.Tensor): Feature tensor for the image.\n",
    "    txt_features (torch.Tensor): Feature tensor for the text.\n",
    "\n",
    "    Returns:\n",
    "    torch.Tensor: Cosine similarity score between -1 and 1.\n",
    "    \"\"\"\n",
    "\n",
    "    img_features = img_features.squeeze()\n",
    "    txt_features = txt_features.squeeze()\n",
    "    \n",
    "    # Compute dot product\n",
    "    dot_product = torch.dot(img_features, txt_features)\n",
    "    \n",
    "    # Compute L2 norms\n",
    "    norm_img = torch.norm(img_features, p=2)\n",
    "    norm_txt = torch.norm(txt_features, p=2)\n",
    "    \n",
    "    # Avoid division by zero\n",
    "    if norm_img == 0 or norm_txt == 0:\n",
    "        return torch.tensor(0.0)  # Handle zero-vector cases\n",
    "    \n",
    "    # Compute cosine similarity\n",
    "    similarity = dot_product / (norm_img * norm_txt)\n",
    "    \n",
    "    return similarity.item()\n",
    "\n",
    "def recognize_bird_species(img_path):\n",
    "    img_features = get_clip_features(img_path)\n",
    "    similarities = []\n",
    "    for class_name in classes['class_name']:\n",
    "        text_features = get_clip_text_features(class_name)\n",
    "        similarity_score = get_cosine_similarity(img_features, text_features)\n",
    "        similarities.append((class_name, similarity_score))\n",
    "    similarities.sort(key=lambda x: x[1], reverse=True)\n",
    "    return similarities[0][0]"
   ]
  },
  {
   "cell_type": "code",
   "execution_count": 5,
   "metadata": {
    "execution": {
     "iopub.execute_input": "2025-03-05T07:51:48.474759Z",
     "iopub.status.busy": "2025-03-05T07:51:48.474385Z",
     "iopub.status.idle": "2025-03-05T07:51:50.874368Z",
     "shell.execute_reply": "2025-03-05T07:51:50.873474Z",
     "shell.execute_reply.started": "2025-03-05T07:51:48.474731Z"
    },
    "trusted": true
   },
   "outputs": [
    {
     "name": "stdout",
     "output_type": "stream",
     "text": [
      "001.Black_footed_Albatross\n",
      "Predicted class: 1, class name: 001.Black_footed_Albatross\n",
      "GT class: 1, class name: 001.Black_footed_Albatross\n"
     ]
    }
   ],
   "source": [
    "img_id = 1\n",
    "image_name = images.iloc[img_id]['file_path']\n",
    "gt_class = labels.iloc[img_id]['class_id']\n",
    "gt_class_name = classes[classes['class_id'] == gt_class]['class_name'][0]\n",
    "bird_species = recognize_bird_species(os.path.join(os.path.join(data_dir, 'images'), image_name))\n",
    "print(bird_species)\n",
    "pred_class = classes[classes['class_name'] == bird_species]['class_id'][0]\n",
    "print(f'Predicted class: {pred_class}, class name: {bird_species}')\n",
    "print(f\"GT class: {gt_class}, class name: {gt_class_name}\")"
   ]
  },
  {
   "cell_type": "markdown",
   "metadata": {},
   "source": [
    "#### Run CLIP on all images"
   ]
  },
  {
   "cell_type": "code",
   "execution_count": 20,
   "metadata": {
    "execution": {
     "iopub.execute_input": "2025-03-05T09:12:14.292705Z",
     "iopub.status.busy": "2025-03-05T09:12:14.292403Z",
     "iopub.status.idle": "2025-03-05T09:40:37.505252Z",
     "shell.execute_reply": "2025-03-05T09:40:37.504158Z",
     "shell.execute_reply.started": "2025-03-05T09:12:14.292683Z"
    },
    "trusted": true
   },
   "outputs": [
    {
     "name": "stderr",
     "output_type": "stream",
     "text": [
      "100%|██████████| 999/999 [28:23<00:00,  1.70s/it]"
     ]
    },
    {
     "name": "stdout",
     "output_type": "stream",
     "text": [
      "Accuracy: 0.03579911774686122\n"
     ]
    },
    {
     "name": "stderr",
     "output_type": "stream",
     "text": [
      "\n"
     ]
    }
   ],
   "source": [
    "accuracy = 0\n",
    "with open('clip_predictions.txt', 'w') as f:\n",
    "    for img_id in tqdm(range(2001, 3000)):\n",
    "        image_name = images.iloc[img_id]['file_path']\n",
    "        gt_class = labels.iloc[img_id]['class_id']\n",
    "        bird_species = recognize_bird_species(os.path.join(os.path.join(data_dir, 'images'), image_name))\n",
    "        pred_class = classes[classes['class_name'] == bird_species]['class_id'].iloc[0]\n",
    "        f.write(f'{img_id} {pred_class} {int(gt_class == pred_class)}\\n')\n",
    "        accuracy += int(gt_class == pred_class)\n",
    "    accuracy /= len(images)\n",
    "    print(f'Accuracy: {accuracy}')"
   ]
  },
  {
   "cell_type": "code",
   "execution_count": 7,
   "metadata": {
    "execution": {
     "iopub.execute_input": "2025-03-03T18:58:30.450841Z",
     "iopub.status.busy": "2025-03-03T18:58:30.450534Z",
     "iopub.status.idle": "2025-03-03T18:58:30.457353Z",
     "shell.execute_reply": "2025-03-03T18:58:30.456682Z",
     "shell.execute_reply.started": "2025-03-03T18:58:30.450808Z"
    },
    "trusted": true
   },
   "outputs": [
    {
     "name": "stdout",
     "output_type": "stream",
     "text": [
      "Accuracy = 50.83%\n"
     ]
    }
   ],
   "source": [
    "def measure_accuracy(file_path):\n",
    "    accuracy = 0\n",
    "    nlines = 0\n",
    "    with open(file_path, 'r') as f:\n",
    "        for line in f.readlines():\n",
    "            accuracy += int(line.split(' ')[2])\n",
    "            nlines += 1\n",
    "    return accuracy / nlines\n",
    "accuracy = measure_accuracy('./clip_predictions_1_2000.txt')\n",
    "print(f'Accuracy = {np.round(accuracy*100, 2)}%')"
   ]
  }
 ],
 "metadata": {
  "kaggle": {
   "accelerator": "gpu",
   "dataSources": [
    {
     "datasetId": 2534241,
     "sourceId": 5140550,
     "sourceType": "datasetVersion"
    }
   ],
   "dockerImageVersionId": 30887,
   "isGpuEnabled": true,
   "isInternetEnabled": true,
   "language": "python",
   "sourceType": "notebook"
  },
  "kernelspec": {
   "display_name": "clip",
   "language": "python",
   "name": "python3"
  },
  "language_info": {
   "codemirror_mode": {
    "name": "ipython",
    "version": 3
   },
   "file_extension": ".py",
   "mimetype": "text/x-python",
   "name": "python",
   "nbconvert_exporter": "python",
   "pygments_lexer": "ipython3",
   "version": "3.8.20"
  }
 },
 "nbformat": 4,
 "nbformat_minor": 4
}
