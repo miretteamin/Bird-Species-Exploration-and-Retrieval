{
 "cells": [
  {
   "cell_type": "code",
   "execution_count": 1,
   "metadata": {
    "execution": {
     "iopub.execute_input": "2025-03-05T07:50:37.945922Z",
     "iopub.status.busy": "2025-03-05T07:50:37.945515Z",
     "iopub.status.idle": "2025-03-05T07:50:53.859676Z",
     "shell.execute_reply": "2025-03-05T07:50:53.858767Z",
     "shell.execute_reply.started": "2025-03-05T07:50:37.945880Z"
    },
    "trusted": true
   },
   "outputs": [
    {
     "name": "stdout",
     "output_type": "stream",
     "text": [
      "Collecting ftfy\n",
      "  Downloading ftfy-6.3.1-py3-none-any.whl.metadata (7.3 kB)\n",
      "Requirement already satisfied: regex in /usr/local/lib/python3.10/dist-packages (2024.11.6)\n",
      "Requirement already satisfied: tqdm in /usr/local/lib/python3.10/dist-packages (4.67.1)\n",
      "Requirement already satisfied: wcwidth in /usr/local/lib/python3.10/dist-packages (from ftfy) (0.2.13)\n",
      "Downloading ftfy-6.3.1-py3-none-any.whl (44 kB)\n",
      "\u001b[2K   \u001b[90m━━━━━━━━━━━━━━━━━━━━━━━━━━━━━━━━━━━━━━━━\u001b[0m \u001b[32m44.8/44.8 kB\u001b[0m \u001b[31m2.5 MB/s\u001b[0m eta \u001b[36m0:00:00\u001b[0m\n",
      "\u001b[?25hInstalling collected packages: ftfy\n",
      "Successfully installed ftfy-6.3.1\n",
      "Collecting git+https://github.com/openai/CLIP.git\n",
      "  Cloning https://github.com/openai/CLIP.git to /tmp/pip-req-build-hi1z9mo1\n",
      "  Running command git clone --filter=blob:none --quiet https://github.com/openai/CLIP.git /tmp/pip-req-build-hi1z9mo1\n",
      "  Resolved https://github.com/openai/CLIP.git to commit dcba3cb2e2827b402d2701e7e1c7d9fed8a20ef1\n",
      "  Preparing metadata (setup.py) ... \u001b[?25l\u001b[?25hdone\n",
      "Requirement already satisfied: ftfy in /usr/local/lib/python3.10/dist-packages (from clip==1.0) (6.3.1)\n",
      "Requirement already satisfied: packaging in /usr/local/lib/python3.10/dist-packages (from clip==1.0) (24.2)\n",
      "Requirement already satisfied: regex in /usr/local/lib/python3.10/dist-packages (from clip==1.0) (2024.11.6)\n",
      "Requirement already satisfied: tqdm in /usr/local/lib/python3.10/dist-packages (from clip==1.0) (4.67.1)\n",
      "Requirement already satisfied: torch in /usr/local/lib/python3.10/dist-packages (from clip==1.0) (2.5.1+cu121)\n",
      "Requirement already satisfied: torchvision in /usr/local/lib/python3.10/dist-packages (from clip==1.0) (0.20.1+cu121)\n",
      "Requirement already satisfied: wcwidth in /usr/local/lib/python3.10/dist-packages (from ftfy->clip==1.0) (0.2.13)\n",
      "Requirement already satisfied: filelock in /usr/local/lib/python3.10/dist-packages (from torch->clip==1.0) (3.17.0)\n",
      "Requirement already satisfied: typing-extensions>=4.8.0 in /usr/local/lib/python3.10/dist-packages (from torch->clip==1.0) (4.12.2)\n",
      "Requirement already satisfied: networkx in /usr/local/lib/python3.10/dist-packages (from torch->clip==1.0) (3.4.2)\n",
      "Requirement already satisfied: jinja2 in /usr/local/lib/python3.10/dist-packages (from torch->clip==1.0) (3.1.4)\n",
      "Requirement already satisfied: fsspec in /usr/local/lib/python3.10/dist-packages (from torch->clip==1.0) (2024.9.0)\n",
      "Requirement already satisfied: sympy==1.13.1 in /usr/local/lib/python3.10/dist-packages (from torch->clip==1.0) (1.13.1)\n",
      "Requirement already satisfied: mpmath<1.4,>=1.1.0 in /usr/local/lib/python3.10/dist-packages (from sympy==1.13.1->torch->clip==1.0) (1.3.0)\n",
      "Requirement already satisfied: numpy in /usr/local/lib/python3.10/dist-packages (from torchvision->clip==1.0) (1.26.4)\n",
      "Requirement already satisfied: pillow!=8.3.*,>=5.3.0 in /usr/local/lib/python3.10/dist-packages (from torchvision->clip==1.0) (11.0.0)\n",
      "Requirement already satisfied: MarkupSafe>=2.0 in /usr/local/lib/python3.10/dist-packages (from jinja2->torch->clip==1.0) (3.0.2)\n",
      "Requirement already satisfied: mkl_fft in /usr/local/lib/python3.10/dist-packages (from numpy->torchvision->clip==1.0) (1.3.8)\n",
      "Requirement already satisfied: mkl_random in /usr/local/lib/python3.10/dist-packages (from numpy->torchvision->clip==1.0) (1.2.4)\n",
      "Requirement already satisfied: mkl_umath in /usr/local/lib/python3.10/dist-packages (from numpy->torchvision->clip==1.0) (0.1.1)\n",
      "Requirement already satisfied: mkl in /usr/local/lib/python3.10/dist-packages (from numpy->torchvision->clip==1.0) (2025.0.1)\n",
      "Requirement already satisfied: tbb4py in /usr/local/lib/python3.10/dist-packages (from numpy->torchvision->clip==1.0) (2022.0.0)\n",
      "Requirement already satisfied: mkl-service in /usr/local/lib/python3.10/dist-packages (from numpy->torchvision->clip==1.0) (2.4.1)\n",
      "Requirement already satisfied: intel-openmp>=2024 in /usr/local/lib/python3.10/dist-packages (from mkl->numpy->torchvision->clip==1.0) (2024.2.0)\n",
      "Requirement already satisfied: tbb==2022.* in /usr/local/lib/python3.10/dist-packages (from mkl->numpy->torchvision->clip==1.0) (2022.0.0)\n",
      "Requirement already satisfied: tcmlib==1.* in /usr/local/lib/python3.10/dist-packages (from tbb==2022.*->mkl->numpy->torchvision->clip==1.0) (1.2.0)\n",
      "Requirement already satisfied: intel-cmplr-lib-rt in /usr/local/lib/python3.10/dist-packages (from mkl_umath->numpy->torchvision->clip==1.0) (2024.2.0)\n",
      "Requirement already satisfied: intel-cmplr-lib-ur==2024.2.0 in /usr/local/lib/python3.10/dist-packages (from intel-openmp>=2024->mkl->numpy->torchvision->clip==1.0) (2024.2.0)\n",
      "Building wheels for collected packages: clip\n",
      "  Building wheel for clip (setup.py) ... \u001b[?25l\u001b[?25hdone\n",
      "  Created wheel for clip: filename=clip-1.0-py3-none-any.whl size=1369489 sha256=3c72d446b1de8594c5bf2f9ca0e4d4a539d9c93b800dda1e9d498b2cef25c34b\n",
      "  Stored in directory: /tmp/pip-ephem-wheel-cache-tqp1qsi0/wheels/da/2b/4c/d6691fa9597aac8bb85d2ac13b112deb897d5b50f5ad9a37e4\n",
      "Successfully built clip\n",
      "Installing collected packages: clip\n",
      "Successfully installed clip-1.0\n"
     ]
    }
   ],
   "source": [
    "!pip install ftfy regex tqdm\n",
    "!pip install git+https://github.com/openai/CLIP.git\n",
    "import torch\n",
    "import clip\n",
    "from PIL import Image\n",
    "import numpy as np\n",
    "import matplotlib.pyplot as plt\n",
    "import os\n",
    "import pandas as pd\n",
    "from tqdm import tqdm"
   ]
  },
  {
   "cell_type": "markdown",
   "metadata": {},
   "source": [
    "### Hyperparameters"
   ]
  },
  {
   "cell_type": "code",
   "execution_count": 2,
   "metadata": {
    "execution": {
     "iopub.execute_input": "2025-03-05T07:50:53.861317Z",
     "iopub.status.busy": "2025-03-05T07:50:53.860895Z",
     "iopub.status.idle": "2025-03-05T07:50:53.867152Z",
     "shell.execute_reply": "2025-03-05T07:50:53.866160Z",
     "shell.execute_reply.started": "2025-03-05T07:50:53.861282Z"
    },
    "trusted": true
   },
   "outputs": [
    {
     "data": {
      "text/plain": [
       "'cuda'"
      ]
     },
     "execution_count": 2,
     "metadata": {},
     "output_type": "execute_result"
    }
   ],
   "source": [
    "DEVICE = \"cuda\" if torch.cuda.is_available() else \"cpu\"\n",
    "DEVICE"
   ]
  },
  {
   "cell_type": "markdown",
   "metadata": {},
   "source": [
    "### Dataset"
   ]
  },
  {
   "cell_type": "code",
   "execution_count": 3,
   "metadata": {
    "execution": {
     "iopub.execute_input": "2025-03-05T07:50:53.868959Z",
     "iopub.status.busy": "2025-03-05T07:50:53.868714Z",
     "iopub.status.idle": "2025-03-05T07:50:53.943176Z",
     "shell.execute_reply": "2025-03-05T07:50:53.942546Z",
     "shell.execute_reply.started": "2025-03-05T07:50:53.868940Z"
    },
    "trusted": true
   },
   "outputs": [
    {
     "name": "stdout",
     "output_type": "stream",
     "text": [
      "   image_id                                          file_path\n",
      "0         1  001.Black_footed_Albatross/Black_Footed_Albatr...\n",
      "1         2  001.Black_footed_Albatross/Black_Footed_Albatr...\n",
      "2         3  001.Black_footed_Albatross/Black_Footed_Albatr...\n",
      "3         4  001.Black_footed_Albatross/Black_Footed_Albatr...\n",
      "4         5  001.Black_footed_Albatross/Black_Footed_Albatr...\n",
      "   image_id  class_id\n",
      "0         1         1\n",
      "1         2         1\n",
      "2         3         1\n",
      "3         4         1\n",
      "4         5         1\n",
      "   class_id                  class_name\n",
      "0         1  001.Black_footed_Albatross\n",
      "1         2        002.Laysan_Albatross\n",
      "2         3         003.Sooty_Albatross\n",
      "3         4       004.Groove_billed_Ani\n",
      "4         5          005.Crested_Auklet\n",
      "(11788, 2)\n",
      "(11788, 2)\n",
      "(200, 2)\n"
     ]
    }
   ],
   "source": [
    "# Load the CUB-200-2011 dataset\n",
    "def load_cub_dataset(data_dir):\n",
    "    images = pd.read_csv(os.path.join(data_dir, 'images.txt'), sep=' ', names=['image_id', 'file_path'])\n",
    "    labels = pd.read_csv(os.path.join(data_dir, 'image_class_labels.txt'), sep=' ', names=['image_id', 'class_id'])\n",
    "    classes = pd.read_csv(os.path.join(data_dir, 'classes.txt'), sep=' ', names=['class_id', 'class_name'])\n",
    "    return images, labels, classes\n",
    "data_dir = '/kaggle/input/cub2002011/CUB_200_2011'\n",
    "\n",
    "images, labels, classes = load_cub_dataset(data_dir)\n",
    "\n",
    "print(images.head())\n",
    "print(labels.head())\n",
    "print(classes.head())\n",
    "\n",
    "print(images.shape)\n",
    "print(labels.shape)\n",
    "print(classes.shape)"
   ]
  },
  {
   "cell_type": "markdown",
   "metadata": {},
   "source": [
    "## Task 1"
   ]
  },
  {
   "cell_type": "markdown",
   "metadata": {},
   "source": [
    "### CLIP"
   ]
  },
  {
   "cell_type": "code",
   "execution_count": 4,
   "metadata": {
    "execution": {
     "iopub.execute_input": "2025-03-05T07:50:53.944109Z",
     "iopub.status.busy": "2025-03-05T07:50:53.943892Z",
     "iopub.status.idle": "2025-03-05T07:51:01.776135Z",
     "shell.execute_reply": "2025-03-05T07:51:01.775459Z",
     "shell.execute_reply.started": "2025-03-05T07:50:53.944060Z"
    },
    "trusted": true
   },
   "outputs": [
    {
     "name": "stderr",
     "output_type": "stream",
     "text": [
      "100%|████████████████████████████████████████| 338M/338M [00:02<00:00, 149MiB/s]\n"
     ]
    }
   ],
   "source": [
    "clip_model, clip_preprocess = clip.load(\"ViT-B/32\", device=DEVICE, jit=False)\n",
    "clip_model.eval()\n",
    "\n",
    "def get_clip_features(img_path):\n",
    "    img = Image.open(img_path)\n",
    "    img_input = clip_preprocess(img).unsqueeze(0).to(DEVICE)\n",
    "    with torch.no_grad():\n",
    "        img_features = clip_model.encode_image(img_input)\n",
    "    return img_features\n",
    "\n",
    "def get_clip_text_features(text):\n",
    "    text_input = clip.tokenize([text]).to(DEVICE)\n",
    "    with torch.no_grad():\n",
    "        text_features = clip_model.encode_text(text_input)\n",
    "    return text_features\n",
    "\n",
    "def get_clip_similarity_score(img_features, text_features):\n",
    "    img_features /= img_features.norm(dim=-1, keepdim=True)\n",
    "    text_features /= text_features.norm(dim=-1, keepdim=True)\n",
    "    similarity_score = (100.0 * img_features @ text_features.T).softmax(dim=-1)\n",
    "    return similarity_score.item()\n",
    "\n",
    "def get_cosine_similarity(img_features: torch.Tensor, txt_features: torch.Tensor) -> torch.Tensor:\n",
    "    \"\"\"\n",
    "    Computes the cosine similarity between image and text feature tensors.\n",
    "    \n",
    "    Parameters:\n",
    "    img_features (torch.Tensor): Feature tensor for the image.\n",
    "    txt_features (torch.Tensor): Feature tensor for the text.\n",
    "\n",
    "    Returns:\n",
    "    torch.Tensor: Cosine similarity score between -1 and 1.\n",
    "    \"\"\"\n",
    "\n",
    "    img_features = img_features.squeeze()\n",
    "    txt_features = txt_features.squeeze()\n",
    "    \n",
    "    # Compute dot product\n",
    "    dot_product = torch.dot(img_features, txt_features)\n",
    "    \n",
    "    # Compute L2 norms\n",
    "    norm_img = torch.norm(img_features, p=2)\n",
    "    norm_txt = torch.norm(txt_features, p=2)\n",
    "    \n",
    "    # Avoid division by zero\n",
    "    if norm_img == 0 or norm_txt == 0:\n",
    "        return torch.tensor(0.0)  # Handle zero-vector cases\n",
    "    \n",
    "    # Compute cosine similarity\n",
    "    similarity = dot_product / (norm_img * norm_txt)\n",
    "    \n",
    "    return similarity.item()\n",
    "\n",
    "def recognize_bird_species(img_path):\n",
    "    img_features = get_clip_features(img_path)\n",
    "    similarities = []\n",
    "    for class_name in classes['class_name']:\n",
    "        text_features = get_clip_text_features(class_name)\n",
    "        similarity_score = get_cosine_similarity(img_features, text_features)\n",
    "        similarities.append((class_name, similarity_score))\n",
    "    similarities.sort(key=lambda x: x[1], reverse=True)\n",
    "    return similarities[0][0]"
   ]
  },
  {
   "cell_type": "code",
   "execution_count": 5,
   "metadata": {
    "execution": {
     "iopub.execute_input": "2025-03-05T07:51:48.474759Z",
     "iopub.status.busy": "2025-03-05T07:51:48.474385Z",
     "iopub.status.idle": "2025-03-05T07:51:50.874368Z",
     "shell.execute_reply": "2025-03-05T07:51:50.873474Z",
     "shell.execute_reply.started": "2025-03-05T07:51:48.474731Z"
    },
    "trusted": true
   },
   "outputs": [
    {
     "name": "stdout",
     "output_type": "stream",
     "text": [
      "001.Black_footed_Albatross\n",
      "Predicted class: 1, class name: 001.Black_footed_Albatross\n",
      "GT class: 1, class name: 001.Black_footed_Albatross\n"
     ]
    }
   ],
   "source": [
    "img_id = 1\n",
    "image_name = images.iloc[img_id]['file_path']\n",
    "gt_class = labels.iloc[img_id]['class_id']\n",
    "gt_class_name = classes[classes['class_id'] == gt_class]['class_name'][0]\n",
    "bird_species = recognize_bird_species(os.path.join(os.path.join(data_dir, 'images'), image_name))\n",
    "print(bird_species)\n",
    "pred_class = classes[classes['class_name'] == bird_species]['class_id'][0]\n",
    "print(f'Predicted class: {pred_class}, class name: {bird_species}')\n",
    "print(f\"GT class: {gt_class}, class name: {gt_class_name}\")"
   ]
  },
  {
   "cell_type": "markdown",
   "metadata": {},
   "source": [
    "#### Run CLIP on all images"
   ]
  },
  {
   "cell_type": "code",
   "execution_count": 20,
   "metadata": {
    "execution": {
     "iopub.execute_input": "2025-03-05T09:12:14.292705Z",
     "iopub.status.busy": "2025-03-05T09:12:14.292403Z",
     "iopub.status.idle": "2025-03-05T09:40:37.505252Z",
     "shell.execute_reply": "2025-03-05T09:40:37.504158Z",
     "shell.execute_reply.started": "2025-03-05T09:12:14.292683Z"
    },
    "trusted": true
   },
   "outputs": [
    {
     "name": "stderr",
     "output_type": "stream",
     "text": [
      "100%|██████████| 999/999 [28:23<00:00,  1.70s/it]"
     ]
    },
    {
     "name": "stdout",
     "output_type": "stream",
     "text": [
      "Accuracy: 0.03579911774686122\n"
     ]
    },
    {
     "name": "stderr",
     "output_type": "stream",
     "text": [
      "\n"
     ]
    }
   ],
   "source": [
    "accuracy = 0\n",
    "with open('clip_predictions.txt', 'w') as f:\n",
    "    for img_id in tqdm(range(2001, 3000)):\n",
    "        image_name = images.iloc[img_id]['file_path']\n",
    "        gt_class = labels.iloc[img_id]['class_id']\n",
    "        bird_species = recognize_bird_species(os.path.join(os.path.join(data_dir, 'images'), image_name))\n",
    "        pred_class = classes[classes['class_name'] == bird_species]['class_id'].iloc[0]\n",
    "        f.write(f'{img_id} {pred_class} {int(gt_class == pred_class)}\\n')\n",
    "        accuracy += int(gt_class == pred_class)\n",
    "    accuracy /= len(images)\n",
    "    print(f'Accuracy: {accuracy}')"
   ]
  },
  {
   "cell_type": "code",
   "execution_count": 7,
   "metadata": {
    "execution": {
     "iopub.execute_input": "2025-03-03T18:58:30.450841Z",
     "iopub.status.busy": "2025-03-03T18:58:30.450534Z",
     "iopub.status.idle": "2025-03-03T18:58:30.457353Z",
     "shell.execute_reply": "2025-03-03T18:58:30.456682Z",
     "shell.execute_reply.started": "2025-03-03T18:58:30.450808Z"
    },
    "trusted": true
   },
   "outputs": [
    {
     "name": "stdout",
     "output_type": "stream",
     "text": [
      "Accuracy = 0.0%\n"
     ]
    }
   ],
   "source": [
    "def measure_accuracy(file_path):\n",
    "    accuracy = 0\n",
    "    nlines = 0\n",
    "    with open(file_path, 'r') as f:\n",
    "        for line in f.readlines():\n",
    "            accuracy += int(line.split(' ')[2])\n",
    "            nlines += 1\n",
    "    return accuracy / nlines\n",
    "accuracy = measure_accuracy('/kaggle/working/clip_predictions.txt')\n",
    "print(f'Accuracy = {np.round(accuracy*100, 2)}%')"
   ]
  }
 ],
 "metadata": {
  "kaggle": {
   "accelerator": "gpu",
   "dataSources": [
    {
     "datasetId": 2534241,
     "sourceId": 5140550,
     "sourceType": "datasetVersion"
    }
   ],
   "dockerImageVersionId": 30887,
   "isGpuEnabled": true,
   "isInternetEnabled": true,
   "language": "python",
   "sourceType": "notebook"
  },
  "kernelspec": {
   "display_name": "clip",
   "language": "python",
   "name": "python3"
  },
  "language_info": {
   "codemirror_mode": {
    "name": "ipython",
    "version": 3
   },
   "file_extension": ".py",
   "mimetype": "text/x-python",
   "name": "python",
   "nbconvert_exporter": "python",
   "pygments_lexer": "ipython3",
   "version": "3.8.20"
  }
 },
 "nbformat": 4,
 "nbformat_minor": 4
}
