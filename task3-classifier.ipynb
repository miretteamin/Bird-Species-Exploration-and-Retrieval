{
 "cells": [
  {
   "cell_type": "markdown",
   "metadata": {},
   "source": [
    "# Imports"
   ]
  },
  {
   "cell_type": "code",
   "execution_count": 1,
   "metadata": {
    "_cell_guid": "b1076dfc-b9ad-4769-8c92-a6c4dae69d19",
    "_uuid": "8f2839f25d086af736a60e9eeb907d3b93b6e0e5",
    "execution": {
     "iopub.execute_input": "2025-03-09T21:26:01.755595Z",
     "iopub.status.busy": "2025-03-09T21:26:01.755269Z",
     "iopub.status.idle": "2025-03-09T21:27:10.366619Z",
     "shell.execute_reply": "2025-03-09T21:27:10.365675Z",
     "shell.execute_reply.started": "2025-03-09T21:26:01.755568Z"
    },
    "trusted": true
   },
   "outputs": [
    {
     "name": "stderr",
     "output_type": "stream",
     "text": [
      "d:\\Users\\miret\\anaconda3\\envs\\cvEnv\\lib\\site-packages\\tqdm\\auto.py:21: TqdmWarning: IProgress not found. Please update jupyter and ipywidgets. See https://ipywidgets.readthedocs.io/en/stable/user_install.html\n",
      "  from .autonotebook import tqdm as notebook_tqdm\n"
     ]
    }
   ],
   "source": [
    "# !pip install ftfy regex tqdm\n",
    "# # !pip install git+https://github.com/openai/CLIP.git\n",
    "# !pip install --upgrade -q accelerate bitsandbytes\n",
    "# !pip install git+https://github.com/huggingface/transformers.git\n",
    "from transformers import AutoProcessor, LlavaForConditionalGeneration\n",
    "from transformers import BitsAndBytesConfig\n",
    "import torch\n",
    "import torch.nn as nn\n",
    "from torchvision import transforms, datasets\n",
    "from torch.utils.data import Dataset, DataLoader, random_split\n",
    "# import clip\n",
    "from PIL import Image\n",
    "import numpy as np\n",
    "import matplotlib.pyplot as plt\n",
    "import os, json\n",
    "import pandas as pd\n",
    "from tqdm import tqdm\n",
    "from sklearn.linear_model import LogisticRegression\n",
    "from sklearn.metrics import accuracy_score\n",
    "from sklearn.model_selection import train_test_split"
   ]
  },
  {
   "cell_type": "code",
   "execution_count": 2,
   "metadata": {
    "execution": {
     "iopub.execute_input": "2025-03-09T21:27:10.368533Z",
     "iopub.status.busy": "2025-03-09T21:27:10.367830Z",
     "iopub.status.idle": "2025-03-09T21:27:10.374462Z",
     "shell.execute_reply": "2025-03-09T21:27:10.373633Z",
     "shell.execute_reply.started": "2025-03-09T21:27:10.368490Z"
    },
    "trusted": true
   },
   "outputs": [
    {
     "data": {
      "text/plain": [
       "'cuda'"
      ]
     },
     "execution_count": 2,
     "metadata": {},
     "output_type": "execute_result"
    }
   ],
   "source": [
    "device = \"cuda\" if torch.cuda.is_available() else \"cpu\"\n",
    "device"
   ]
  },
  {
   "cell_type": "markdown",
   "metadata": {},
   "source": [
    "# Load Dataset"
   ]
  },
  {
   "cell_type": "code",
   "execution_count": 3,
   "metadata": {
    "execution": {
     "iopub.execute_input": "2025-03-09T21:27:10.376113Z",
     "iopub.status.busy": "2025-03-09T21:27:10.375838Z",
     "iopub.status.idle": "2025-03-09T21:27:10.393584Z",
     "shell.execute_reply": "2025-03-09T21:27:10.392741Z",
     "shell.execute_reply.started": "2025-03-09T21:27:10.376092Z"
    },
    "trusted": true
   },
   "outputs": [],
   "source": [
    "# # Load the CUB-200-2011 dataset\n",
    "# def load_cub_dataset(data_dir):\n",
    "#     images = pd.read_csv(os.path.join(data_dir, 'images.txt'), sep=' ', names=['image_id', 'file_path'])\n",
    "#     labels = pd.read_csv(os.path.join(data_dir, 'image_class_labels.txt'), sep=' ', names=['image_id', 'class_id'])\n",
    "#     classes = pd.read_csv(os.path.join(data_dir, 'classes.txt'), sep=' ', names=['class_id', 'class_name'])\n",
    "#     bounding_boxes = pd.read_csv(os.path.join(data_dir, 'bounding_boxes.txt'), sep=' ', names=['image_id', 'x', 'y', 'width', 'height'])\n",
    "#     part_locs = pd.read_csv(os.path.join(data_dir, 'parts/part_locs.txt'), sep=' ', names=['img_id', 'part_id', 'x', 'y', 'visible'])\n",
    "#     # parts = pd.read_csv(os.path.join(data_dir, 'parts/parts.txt'), delimiter =' ', names=['part_id', 'part_name'])\n",
    "#     parts = pd.read_fwf(os.path.join(data_dir, 'parts/parts.txt'), colspecs=[(0, 2), (2, None)], header=None, names=['part_id', 'part_name'])\n",
    "#     parts_click_locs = pd.read_csv(os.path.join(data_dir, 'parts/part_click_locs.txt'), sep = ' ', names=['image_id', 'part_id', 'x', 'y', 'visible', 'time'])\n",
    "#     attributes = pd.read_csv(os.path.join(data_dir, 'attributes/attributes.txt'), sep = ' ', names=['attribute_id', 'attribute_name'])\n",
    "#     certainties = pd.read_fwf(os.path.join(data_dir, 'attributes/certainties.txt'), colspecs=[(0, 1), (2, None)], names=[\"certainty_id\", \"certainty_name\"])\n",
    "#     image_attribute_labels = pd.read_csv(os.path.join(data_dir, 'attributes/image_attribute_labels.txt'),\n",
    "#                                          # sep = ' ',\n",
    "#                                          names=['image_id', 'attribute_id', 'is_present', 'certainty_id', 'time'],\n",
    "#                                          delim_whitespace=True, usecols=range(5)\n",
    "#                                         )\n",
    "#     return images, labels, classes,  bounding_boxes, parts, part_locs, parts_click_locs, attributes, certainties, image_attribute_labels\n",
    "# data_dir = '/kaggle/input/cub2002011/CUB_200_2011'\n",
    "# images_dir = os.path.join(data_dir, 'images')\n",
    "# parts_dir = os.path.join(data_dir, 'parts')\n",
    "\n",
    "# images, labels, classes, bounding_boxes, parts, part_locs, parts_click_locs, attributes, certainties, image_attribute_labels = load_cub_dataset(data_dir)\n",
    "\n",
    "# print(images.head())\n",
    "# print(labels.head())\n",
    "# print(classes.head())\n",
    "\n",
    "# print(images.shape)\n",
    "# print(labels.shape)\n",
    "# print(classes.shape)"
   ]
  },
  {
   "cell_type": "code",
   "execution_count": 4,
   "metadata": {
    "execution": {
     "iopub.execute_input": "2025-03-09T21:27:10.394769Z",
     "iopub.status.busy": "2025-03-09T21:27:10.394507Z",
     "iopub.status.idle": "2025-03-09T21:27:10.688858Z",
     "shell.execute_reply": "2025-03-09T21:27:10.687704Z",
     "shell.execute_reply.started": "2025-03-09T21:27:10.394749Z"
    },
    "trusted": true
   },
   "outputs": [],
   "source": [
    "# for _, row in images.iterrows():\n",
    "#     print(row['image_id'])\n",
    "#     break"
   ]
  },
  {
   "cell_type": "code",
   "execution_count": 5,
   "metadata": {},
   "outputs": [
    {
     "name": "stderr",
     "output_type": "stream",
     "text": [
      "Using a slow image processor as `use_fast` is unset and a slow processor was saved with this model. `use_fast=True` will be the default behavior in v4.48, even if the model was saved with a slow processor. This will result in minor differences in outputs. You'll still be able to use a slow processor with `use_fast=False`.\n",
      "Loading checkpoint shards: 100%|██████████| 3/3 [00:38<00:00, 12.69s/it]\n"
     ]
    }
   ],
   "source": [
    "data_transforms = transforms.Compose([\n",
    "    transforms.Resize((224, 224)),\n",
    "    transforms.ToTensor(),\n",
    "    transforms.Normalize(mean=(0.481, 0.457, 0.408), std=(0.268, 0.261, 0.275))\n",
    "])\n",
    "\n",
    "quantization_config = BitsAndBytesConfig(load_in_4bit=True, bnb_4bit_compute_dtype=torch.float16)\n",
    "llava_model_id = \"llava-hf/llava-1.5-7b-hf\"\n",
    "llava_processor = AutoProcessor.from_pretrained(llava_model_id)\n",
    "llava_model  = LlavaForConditionalGeneration.from_pretrained(llava_model_id, quantization_config=quantization_config, device_map=\"auto\")"
   ]
  },
  {
   "cell_type": "code",
   "execution_count": 6,
   "metadata": {
    "execution": {
     "iopub.execute_input": "2025-03-09T21:31:09.329392Z",
     "iopub.status.busy": "2025-03-09T21:31:09.329094Z",
     "iopub.status.idle": "2025-03-09T22:01:28.010124Z",
     "shell.execute_reply": "2025-03-09T22:01:28.008304Z",
     "shell.execute_reply.started": "2025-03-09T21:31:09.329368Z"
    },
    "trusted": true
   },
   "outputs": [],
   "source": [
    "class CustomDataset(Dataset):\n",
    "    def __init__(self, data_dir, start, end, process_batches=True, transform=None, use_llava=True, batch_size=500, save_dir=\"processed\"):\n",
    "        self.transform = transform\n",
    "        self.image_dir = data_dir\n",
    "        self.image_paths = []\n",
    "        self.labels = []\n",
    "        self.parts_annotations = {}\n",
    "        self.text_prompts = {}\n",
    "        self.use_llava = use_llava\n",
    "        self.batch_size = batch_size\n",
    "        self.save_dir = save_dir\n",
    "        self.start_idx = start\n",
    "        self.end_idx = end\n",
    "\n",
    "        os.makedirs(save_dir, exist_ok=True)\n",
    "\n",
    "        self.classes = sorted(os.listdir(data_dir))\n",
    "        self.class_to_idx = {cls_name: idx for idx, cls_name in enumerate(self.classes)}\n",
    "\n",
    "        images_file = os.path.join(os.path.dirname(data_dir), 'images.txt')\n",
    "        images_df = pd.read_csv(images_file, sep=' ', names=['image_id', 'file_path'], index_col=0)\n",
    "\n",
    "        parts_file = os.path.join(os.path.dirname(data_dir), 'parts', 'parts.txt')\n",
    "        parts_df = pd.read_fwf(parts_file, colspecs=[(0, 2), (2, None)], header=None, names=['part_id', 'part_name'])\n",
    "        parts_df.set_index('part_id', inplace=True)\n",
    "        self.part_names = parts_df.to_dict()['part_name']\n",
    "\n",
    "        part_locs_file = os.path.join(os.path.dirname(data_dir), 'parts', 'part_locs.txt')\n",
    "        part_locs_df = pd.read_csv(part_locs_file, sep=r'\\s+', names=['image_id', 'part_id', 'x', 'y', 'visible'])\n",
    "\n",
    "        for _, row in part_locs_df.iterrows():\n",
    "            if row['visible'] == 1:\n",
    "                image_id = int(row['image_id'])\n",
    "                part_id = int(row['part_id'])\n",
    "\n",
    "                if part_id in self.part_names:\n",
    "                    if image_id not in self.parts_annotations:\n",
    "                        self.parts_annotations[image_id] = []\n",
    "                    self.parts_annotations[image_id].append({\n",
    "                        'part_name': self.part_names[part_id],\n",
    "                        'x': row['x'],\n",
    "                        'y': row['y']\n",
    "                    })\n",
    "        if (process_batches):\n",
    "            self.process_batches(images_df)\n",
    "\n",
    "    # def process_batches(self, images_df):\n",
    "    #     \"\"\"Processes images in batches and saves results in separate JSON files.\"\"\"\n",
    "    #     num_images = len(images_df)\n",
    "    #     num_batches = (num_images // self.batch_size) + 1\n",
    "    \n",
    "    #     for batch_idx in range(num_batches):\n",
    "    #         batch_start = batch_idx * self.batch_size\n",
    "    #         batch_end = min(batch_start + self.batch_size, num_images)\n",
    "    \n",
    "    #         batch_file = os.path.join(self.save_dir, f\"batch_{batch_start}_{batch_end}.json\")\n",
    "    \n",
    "    #         # Skip batch if it's already processed\n",
    "    #         if os.path.exists(batch_file):\n",
    "    #             print(f\"Loaded existing batch: {batch_file}\")\n",
    "    #             continue\n",
    "    \n",
    "    #         batch_data = {}\n",
    "    \n",
    "    #         for image_id, row in tqdm(images_df.iloc[batch_start:batch_end].iterrows(),total=batch_end - batch_start, desc=\"Processing Images in batch\"):\n",
    "    #             file_path = row['file_path']\n",
    "    #             class_name = file_path.split('/')[0]  # Extract class name from path\n",
    "    #             img_path = os.path.join(self.image_dir, file_path)\n",
    "    \n",
    "    #             # Get part annotations (if available)\n",
    "    #             parts = self.parts_annotations.get(image_id, [])\n",
    "    \n",
    "    #             # Generate Llava text\n",
    "    #             if self.use_llava:\n",
    "    #                 llava_text = self.generate_llava_prompt(img_path, parts, class_name)\n",
    "    #             else:\n",
    "    #                 llava_text = \"No description available.\"\n",
    "    \n",
    "    #             # Store full dataset info\n",
    "    #             batch_data[str(image_id)] = {\n",
    "    #                 \"image_path\": img_path,\n",
    "    #                 \"class_label\": class_name,\n",
    "    #                 \"parts\": parts,\n",
    "    #                 \"llava_text\": llava_text\n",
    "    #             }\n",
    "    \n",
    "    #         # Save batch to JSON\n",
    "    #         with open(batch_file, \"w\") as f:\n",
    "    #             json.dump(batch_data, f, indent=4)\n",
    "    \n",
    "    #         print(f\"Saved batch: {batch_file}\")\n",
    "\n",
    "            # exit()\n",
    "\n",
    "    def process_batches(self, images_df):\n",
    "        \"\"\"Processes images in batches and saves results in separate JSON files.\"\"\"\n",
    "        num_images = self.end_idx - self.start_idx\n",
    "        num_batches = (num_images // self.batch_size) + 1\n",
    "    \n",
    "        for batch_idx in range(num_batches):\n",
    "            batch_start = batch_idx * self.batch_size + self.start_idx\n",
    "            batch_end = min(batch_start + self.batch_size, len(images_df))\n",
    "            batch_file = os.path.join(self.save_dir, f\"batch_{batch_start}_{batch_end}.json\")\n",
    "    \n",
    "            # Skip batch if it's already processed\n",
    "            # if os.path.exists(batch_file):\n",
    "            #     print(f\"Loaded existing batch: {batch_file}\")\n",
    "            #     continue\n",
    "    \n",
    "            batch_data = {}\n",
    "    \n",
    "            for image_id, row in tqdm(images_df.iloc[batch_start:batch_end].iterrows(),total=batch_end - batch_start, desc=\"Processing Images in batch\"):\n",
    "                file_path = row['file_path']\n",
    "                class_name = file_path.split('/')[0]  # Extract class name from path\n",
    "                img_path = os.path.join(self.image_dir, file_path)\n",
    "    \n",
    "                # Get part annotations (if available)\n",
    "                parts = self.parts_annotations.get(image_id, [])\n",
    "    \n",
    "                # Generate Llava text\n",
    "                if self.use_llava:\n",
    "                    llava_text = self.generate_llava_prompt(img_path, parts, class_name)\n",
    "                else:\n",
    "                    llava_text = \"No description available.\"\n",
    "    \n",
    "                # Store full dataset info\n",
    "                batch_data[str(image_id)] = {\n",
    "                    \"image_path\": img_path,\n",
    "                    \"class_label\": class_name,\n",
    "                    \"parts\": parts,\n",
    "                    \"llava_text\": llava_text\n",
    "                }\n",
    "    \n",
    "            # Save batch to JSON\n",
    "            with open(batch_file, \"w\") as f:\n",
    "                json.dump(batch_data, f, indent=4)\n",
    "    \n",
    "            print(f\"Saved batch: {batch_file}\")\n",
    "\n",
    "\n",
    "    def __len__(self):\n",
    "        \"\"\"Returns the total number of images\"\"\"\n",
    "        return len(self.text_prompts)  # Load only processed data\n",
    "\n",
    "    def __getitem__(self, idx):\n",
    "        \"\"\"Loads an image, its label, parts, and saved Llava text from JSON.\"\"\"\n",
    "        img_path = self.image_paths[idx]\n",
    "        label = self.labels[idx]\n",
    "    \n",
    "        # Load and preprocess image\n",
    "        image = Image.open(img_path).convert(\"RGB\")\n",
    "        if self.transform:\n",
    "            image = self.transform(image)\n",
    "    \n",
    "        # Retrieve image ID\n",
    "        image_id = list(self.parts_annotations.keys())[idx]\n",
    "    \n",
    "        # Load saved batch file and extract metadata\n",
    "        batch_file = os.path.join(self.save_dir, f\"batch_{image_id // self.batch_size * self.batch_size}_{(image_id // self.batch_size + 1) * self.batch_size}.json\")\n",
    "    \n",
    "        if os.path.exists(batch_file):\n",
    "            with open(batch_file, \"r\") as f:\n",
    "                batch_data = json.load(f)\n",
    "            image_data = batch_data.get(str(image_id), {})\n",
    "    \n",
    "            parts = image_data.get(\"parts\", [])\n",
    "            text = image_data.get(\"llava_text\", \"No description available.\")\n",
    "        else:\n",
    "            parts = self.parts_annotations.get(image_id, [])\n",
    "            text = \"No description available.\"\n",
    "    \n",
    "        return image, torch.tensor(label, dtype=torch.long), parts, text\n",
    "\n",
    "\n",
    "    def generate_llava_prompt(self, img_path, visible_parts, class_name):\n",
    "        \"\"\"Generates a text description for an image using Llava\"\"\"\n",
    "        if not visible_parts:\n",
    "            return f\"Describe the bird in the picture. It is a {class_name}.\"\n",
    "\n",
    "        prompts = [f\"USER: <image>\\nPlease describe the {part['part_name']} of the bird in the picture in one sentence.\\nASSISTANT:\" for part in visible_parts]\n",
    "        prompts.append(f\"USER: <image>\\nPlease describe the environment of the image given that the bird is a {class_name}.\\nASSISTANT:\")\n",
    "\n",
    "        # Generate text\n",
    "        generated_caption = []\n",
    "        for prompt in prompts:\n",
    "            # print(\"caps\")\n",
    "            image = Image.open(img_path).convert(\"RGB\")\n",
    "            inputs = llava_processor(text=prompt, images=[image], padding=True, return_tensors=\"pt\").to(\"cuda\")\n",
    "            output = llava_model.generate(**inputs, max_new_tokens=1000)\n",
    "            generated_text = llava_processor.batch_decode(output, skip_special_tokens=True)\n",
    "\n",
    "            for text in generated_text:\n",
    "                generated_caption.append(text.split(\"ASSISTANT:\")[-1])\n",
    "\n",
    "        return \" \".join(generated_caption)\n",
    "\n"
   ]
  },
  {
   "cell_type": "code",
   "execution_count": null,
   "metadata": {},
   "outputs": [
    {
     "name": "stderr",
     "output_type": "stream",
     "text": [
      "Processing Images in batch: 100%|██████████| 200/200 [9:11:18<00:00, 165.39s/it]  \n"
     ]
    },
    {
     "name": "stdout",
     "output_type": "stream",
     "text": [
      "Saved batch: processed\\batch_2000_2200.json\n"
     ]
    },
    {
     "name": "stderr",
     "output_type": "stream",
     "text": [
      "Processing Images in batch:   2%|▏         | 3/200 [04:49<5:20:51, 97.72s/it]"
     ]
    }
   ],
   "source": [
    "image_dir = \"data\\images\"\n",
    "\n",
    "custom_dataset = CustomDataset(image_dir, start=2000, end = 5000,\n",
    "                               process_batches=True, transform=data_transforms, batch_size=200)\n",
    "# sample_image, sample_label, sample_parts, sample_text  = custom_dataset[0]\n",
    "# print(f\"Class Label: {sample_label}, Visible Parts: {sample_parts}\")\n",
    "# print(f\"Llava-Generated Text: {sample_text}\")"
   ]
  },
  {
   "cell_type": "code",
   "execution_count": null,
   "metadata": {
    "execution": {
     "iopub.status.busy": "2025-03-09T22:01:28.015207Z",
     "iopub.status.idle": "2025-03-09T22:01:28.015563Z",
     "shell.execute_reply": "2025-03-09T22:01:28.015407Z"
    },
    "trusted": true
   },
   "outputs": [],
   "source": [
    "dataset_size = len(custom_dataset)\n",
    "train_size = int(0.8 * dataset_size)\n",
    "test_size = dataset_size - train_size\n",
    "\n",
    "train_dataset, test_dataset = random_split(custom_dataset, [train_size, test_size])\n",
    "\n",
    "train_dataloader = DataLoader(train_dataset, batch_size=32, shuffle=True)\n",
    "\n",
    "test_dataloader = DataLoader(test_dataset, batch_size=32, shuffle=False)\n",
    "class_names = custom_dataset.classes  # List of class names (e.g., bird species)\n",
    "num_classes = len(class_names)\n",
    "print(\"loaded\")"
   ]
  },
  {
   "cell_type": "markdown",
   "metadata": {},
   "source": [
    "## CLIP"
   ]
  },
  {
   "cell_type": "code",
   "execution_count": 8,
   "metadata": {
    "execution": {
     "iopub.execute_input": "2025-03-09T20:42:26.248009Z",
     "iopub.status.busy": "2025-03-09T20:42:26.247692Z",
     "iopub.status.idle": "2025-03-09T20:42:33.339572Z",
     "shell.execute_reply": "2025-03-09T20:42:33.338876Z",
     "shell.execute_reply.started": "2025-03-09T20:42:26.247979Z"
    },
    "trusted": true
   },
   "outputs": [
    {
     "name": "stderr",
     "output_type": "stream",
     "text": [
      "100%|████████████████████████████████████████| 338M/338M [00:02<00:00, 154MiB/s]\n"
     ]
    }
   ],
   "source": [
    "model, preprocess = clip.load(\"ViT-B/32\", device=device)"
   ]
  },
  {
   "cell_type": "code",
   "execution_count": null,
   "metadata": {
    "execution": {
     "iopub.status.busy": "2025-03-09T22:01:28.016165Z",
     "iopub.status.idle": "2025-03-09T22:01:28.016437Z",
     "shell.execute_reply": "2025-03-09T22:01:28.016320Z"
    },
    "trusted": true
   },
   "outputs": [],
   "source": [
    "def get_clip_img_features(img_path):\n",
    "    image = preprocess(Image.open(img_path)).unsqueeze(0).to(device)\n",
    "    with torch.no_grad():\n",
    "        img_features = model.encode_image(image).cpu().numpy()\n",
    "    return img_features\n",
    "\n",
    "def get_clip_text_features(text):\n",
    "    text_inputs = clip.tokenize([text]).to(device)\n",
    "    with torch.no_grad():\n",
    "        text_features = model.encode_text(text_inputs).cpu().numpy()\n",
    "    return text_features\n",
    "\n",
    "def get_cosine_similarity(img_features: torch.Tensor, txt_features: torch.Tensor) -> torch.Tensor:\n",
    "    \"\"\"\n",
    "    Computes the cosine similarity between image and text feature tensors.\n",
    "    \n",
    "    Parameters:\n",
    "    img_features (torch.Tensor): Feature tensor for the image.\n",
    "    txt_features (torch.Tensor): Feature tensor for the text.\n",
    "\n",
    "    Returns:\n",
    "    torch.Tensor: Cosine similarity score between -1 and 1.\n",
    "    \"\"\"\n",
    "\n",
    "    img_features = img_features.squeeze()\n",
    "    txt_features = txt_features.squeeze()\n",
    "    \n",
    "    # Compute dot product\n",
    "    dot_product = torch.dot(img_features, txt_features)\n",
    "    \n",
    "    # Compute L2 norms\n",
    "    norm_img = torch.norm(img_features, p=2)\n",
    "    norm_txt = torch.norm(txt_features, p=2)\n",
    "    \n",
    "    # Avoid division by zero\n",
    "    if norm_img == 0 or norm_txt == 0:\n",
    "        return torch.tensor(0.0)  # Handle zero-vector cases\n",
    "    \n",
    "    # Compute cosine similarity\n",
    "    similarity = dot_product / (norm_img * norm_txt)\n",
    "    \n",
    "    return similarity.item()\n",
    "\n",
    "def chunking_llava(text, img_path, window_size=77):\n",
    "    img_features = get_clip_img_features(img_path)\n",
    "    sentences = [sentence.strip() for sentence in text.split('.') if sentence.strip()]\n",
    "    similarity_score_avg = 0\n",
    "    for sentence in sentences:\n",
    "        text_features = get_clip_text_features(sentence)\n",
    "        similarity_score = get_cosine_similarity(img_features, text_features)\n",
    "        similarity_score_avg += similarity_score\n",
    "    similarity_score_avg /= len(sentences)\n",
    "    return similarity_score_avg"
   ]
  },
  {
   "cell_type": "code",
   "execution_count": null,
   "metadata": {
    "_kg_hide-output": true,
    "execution": {
     "iopub.status.busy": "2025-03-09T22:01:28.017131Z",
     "iopub.status.idle": "2025-03-09T22:01:28.017417Z",
     "shell.execute_reply": "2025-03-09T22:01:28.017314Z"
    },
    "trusted": true
   },
   "outputs": [],
   "source": [
    "def extract_embeddings(dataloader, model, device):\n",
    "    image_embeds = []\n",
    "    labels_list = []\n",
    "    captions = []\n",
    "    text_embeds = []\n",
    "    \n",
    "    with torch.no_grad():\n",
    "        for imgs, labels, _, text in dataloader:\n",
    "\n",
    "            labels_list.extend(labels.numpy())\n",
    "\n",
    "            \n",
    "            image_embeds_temp = np.vstack([get_clip_img_features(img_path) for img_path in imgs])\n",
    "            image_embeds.append(img_embedding_temp)\n",
    "\n",
    "            text_embeds_temp =  np.vstack([chunking_llava(texts[i], img_path=None)[0] for i in range(len(texts))])\n",
    "            text_embeds.append(text_embedding_batch)\n",
    "\n",
    "    image_embeds = np.vstack(image_embeds)\n",
    "    text_embeds = np.vstack(text_embeds)\n",
    "    labels_list = np.array(labels_list)\n",
    "    \n",
    "    return image_embeds, text_embeds, labels_list\n",
    "\n",
    "# Extract embeddings for train, validation, and test sets\n",
    "train_image_embeds, train_text_embeds, train_labels = extract_embeddings(train_dataloader, model, device)\n",
    "test_image_embeds,test_text_embeds, test_labels = extract_embeddings(test_dataloader, model, device)\n",
    "\n",
    "# train_combined = np.vhstack((train_image_embeds, train_text_embeds)\n",
    "\n",
    "# Print embedding shapes\n",
    "print(f\"Train: {train_embeds.shape[0]} images with embeddings of size {train_embeds.shape[1]}\")\n",
    "print(f\"Test: {test_embeds.shape[0]} images with embeddings of size {test_embeds.shape[1]}\")\n"
   ]
  },
  {
   "cell_type": "code",
   "execution_count": null,
   "metadata": {
    "execution": {
     "iopub.execute_input": "2025-03-09T17:55:24.405746Z",
     "iopub.status.busy": "2025-03-09T17:55:24.405357Z",
     "iopub.status.idle": "2025-03-09T17:55:24.437219Z",
     "shell.execute_reply": "2025-03-09T17:55:24.436415Z",
     "shell.execute_reply.started": "2025-03-09T17:55:24.405720Z"
    },
    "trusted": true
   },
   "outputs": [],
   "source": [
    "np.save('train_embeds.npy', train_embeds)\n",
    "np.save('test_embeds.npy', test_embeds)\n",
    "np.save('train_labels.npy', train_labels)\n",
    "np.save('test_labels.npy', test_labels)"
   ]
  },
  {
   "cell_type": "markdown",
   "metadata": {},
   "source": [
    "## Classifier"
   ]
  },
  {
   "cell_type": "code",
   "execution_count": null,
   "metadata": {
    "execution": {
     "iopub.execute_input": "2025-03-09T17:55:24.438746Z",
     "iopub.status.busy": "2025-03-09T17:55:24.438468Z",
     "iopub.status.idle": "2025-03-09T17:56:13.852583Z",
     "shell.execute_reply": "2025-03-09T17:56:13.851730Z",
     "shell.execute_reply.started": "2025-03-09T17:55:24.438714Z"
    },
    "trusted": true
   },
   "outputs": [],
   "source": [
    "clf = LogisticRegression(max_iter=1000, solver=\"lbfgs\", multi_class=\"multinomial\")\n",
    "clf.fit(train_embeds, train_labels)\n",
    "\n",
    "train_preds = clf.predict(train_embeds)\n",
    "test_preds = clf.predict(test_embeds)\n",
    "\n",
    "# Compute accuracy for each set\n",
    "train_acc = accuracy_score(train_labels, train_preds)\n",
    "test_acc = accuracy_score(test_labels, test_preds)\n",
    "\n",
    "# Print results\n",
    "print(f\"Train Accuracy: {train_acc:.4f}\")\n",
    "print(f\"Test Accuracy: {test_acc:.4f}\")"
   ]
  },
  {
   "cell_type": "code",
   "execution_count": null,
   "metadata": {
    "execution": {
     "iopub.execute_input": "2025-03-09T17:58:05.140856Z",
     "iopub.status.busy": "2025-03-09T17:58:05.140435Z",
     "iopub.status.idle": "2025-03-09T17:58:05.149764Z",
     "shell.execute_reply": "2025-03-09T17:58:05.148756Z",
     "shell.execute_reply.started": "2025-03-09T17:58:05.140827Z"
    },
    "trusted": true
   },
   "outputs": [],
   "source": [
    "import joblib\n",
    "\n",
    "# Save the trained model\n",
    "joblib.dump(clf, \"logistic_regression_model.pkl\")"
   ]
  },
  {
   "cell_type": "code",
   "execution_count": null,
   "metadata": {
    "execution": {
     "iopub.execute_input": "2025-03-09T18:10:46.304772Z",
     "iopub.status.busy": "2025-03-09T18:10:46.304348Z",
     "iopub.status.idle": "2025-03-09T18:10:46.310229Z",
     "shell.execute_reply": "2025-03-09T18:10:46.309210Z",
     "shell.execute_reply.started": "2025-03-09T18:10:46.304741Z"
    },
    "trusted": true
   },
   "outputs": [],
   "source": [
    "def baseline(img_path):\n",
    "    with torch.no_grad():\n",
    "        img = Image.open(img_path).convert('RGB')\n",
    "        img = data_transforms(img)  # Apply transformations\n",
    "        img = img.unsqueeze(0).to(device)  # Add batch dimension\n",
    "        features = model.encode_image(img).cpu().numpy()\n",
    "        pred_class = clf.predict(features)\n",
    "        return pred_class[0]"
   ]
  },
  {
   "cell_type": "code",
   "execution_count": null,
   "metadata": {
    "execution": {
     "iopub.execute_input": "2025-03-09T18:16:29.381416Z",
     "iopub.status.busy": "2025-03-09T18:16:29.381016Z",
     "iopub.status.idle": "2025-03-09T18:16:29.544799Z",
     "shell.execute_reply": "2025-03-09T18:16:29.543940Z",
     "shell.execute_reply.started": "2025-03-09T18:16:29.381382Z"
    },
    "trusted": true
   },
   "outputs": [],
   "source": [
    "img_id = 800\n",
    "img_path = os.path.join(images_dir, images[images['image_id'] == img_id]['file_path'].iloc[0])\n",
    "img = Image.open(img_path)\n",
    "\n",
    "class_id = labels[labels['image_id'] == img_id]['class_id'].iloc[0]\n",
    "class_name = \" \".join(classes[classes['class_id'] == class_id]['class_name'].iloc[0][4:].split('_'))\n",
    "print(f'Class: {class_name}')\n",
    "\n",
    "pred_class = baseline(img_path)\n",
    "pred_class_name = \" \".join(classes[classes['class_id'] == pred_class + 1]['class_name'].iloc[0][4:].split('_'))\n",
    "print(f'Pred Class: {pred_class_name}')\n",
    "\n",
    "image = Image.open(img_path)\n",
    "plt.imshow(image)\n",
    "plt.axis('off')\n",
    "plt.show()"
   ]
  }
 ],
 "metadata": {
  "kaggle": {
   "accelerator": "gpu",
   "dataSources": [
    {
     "datasetId": 2534241,
     "sourceId": 5140550,
     "sourceType": "datasetVersion"
    }
   ],
   "dockerImageVersionId": 30919,
   "isGpuEnabled": true,
   "isInternetEnabled": true,
   "language": "python",
   "sourceType": "notebook"
  },
  "kernelspec": {
   "display_name": "cvEnv",
   "language": "python",
   "name": "python3"
  },
  "language_info": {
   "codemirror_mode": {
    "name": "ipython",
    "version": 3
   },
   "file_extension": ".py",
   "mimetype": "text/x-python",
   "name": "python",
   "nbconvert_exporter": "python",
   "pygments_lexer": "ipython3",
   "version": "3.10.0"
  }
 },
 "nbformat": 4,
 "nbformat_minor": 4
}
