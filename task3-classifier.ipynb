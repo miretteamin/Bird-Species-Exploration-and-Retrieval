{
 "cells": [
  {
   "cell_type": "markdown",
   "metadata": {},
   "source": [
    "# Imports"
   ]
  },
  {
   "cell_type": "code",
   "execution_count": null,
   "metadata": {
    "_cell_guid": "b1076dfc-b9ad-4769-8c92-a6c4dae69d19",
    "_uuid": "8f2839f25d086af736a60e9eeb907d3b93b6e0e5",
    "execution": {
     "iopub.execute_input": "2025-03-10T21:11:22.354787Z",
     "iopub.status.busy": "2025-03-10T21:11:22.354440Z",
     "iopub.status.idle": "2025-03-10T21:12:43.295112Z",
     "shell.execute_reply": "2025-03-10T21:12:43.294272Z",
     "shell.execute_reply.started": "2025-03-10T21:11:22.354753Z"
    },
    "trusted": true
   },
   "outputs": [
    {
     "name": "stdout",
     "output_type": "stream",
     "text": [
      "Requirement already satisfied: ftfy in d:\\programs\\anaconda\\anaconda\\envs\\test\\lib\\site-packages (5.8)\n",
      "Requirement already satisfied: regex in d:\\programs\\anaconda\\anaconda\\envs\\test\\lib\\site-packages (2024.9.11)\n",
      "Requirement already satisfied: tqdm in d:\\programs\\anaconda\\anaconda\\envs\\test\\lib\\site-packages (4.66.5)\n",
      "Requirement already satisfied: wcwidth in c:\\users\\egypt\\appdata\\roaming\\python\\python39\\site-packages (from ftfy) (0.2.13)\n",
      "Requirement already satisfied: colorama in c:\\users\\egypt\\appdata\\roaming\\python\\python39\\site-packages (from tqdm) (0.4.6)\n",
      "Collecting git+https://github.com/openai/CLIP.git\n",
      "  Cloning https://github.com/openai/CLIP.git to c:\\users\\egypt\\appdata\\local\\temp\\pip-req-build-ubv0k7rj\n",
      "  Resolved https://github.com/openai/CLIP.git to commit dcba3cb2e2827b402d2701e7e1c7d9fed8a20ef1\n",
      "  Preparing metadata (setup.py): started\n",
      "  Preparing metadata (setup.py): finished with status 'done'\n",
      "Requirement already satisfied: ftfy in d:\\programs\\anaconda\\anaconda\\envs\\test\\lib\\site-packages (from clip==1.0) (5.8)\n",
      "Requirement already satisfied: packaging in c:\\users\\egypt\\appdata\\roaming\\python\\python39\\site-packages (from clip==1.0) (24.2)\n",
      "Requirement already satisfied: regex in d:\\programs\\anaconda\\anaconda\\envs\\test\\lib\\site-packages (from clip==1.0) (2024.9.11)\n",
      "Requirement already satisfied: tqdm in d:\\programs\\anaconda\\anaconda\\envs\\test\\lib\\site-packages (from clip==1.0) (4.66.5)\n",
      "Requirement already satisfied: torch in d:\\programs\\anaconda\\anaconda\\envs\\test\\lib\\site-packages (from clip==1.0) (1.10.1)\n",
      "Requirement already satisfied: torchvision in d:\\programs\\anaconda\\anaconda\\envs\\test\\lib\\site-packages (from clip==1.0) (0.11.2)\n",
      "Requirement already satisfied: wcwidth in c:\\users\\egypt\\appdata\\roaming\\python\\python39\\site-packages (from ftfy->clip==1.0) (0.2.13)\n",
      "Requirement already satisfied: typing_extensions in c:\\users\\egypt\\appdata\\roaming\\python\\python39\\site-packages (from torch->clip==1.0) (4.12.2)\n",
      "Requirement already satisfied: numpy in d:\\programs\\anaconda\\anaconda\\envs\\test\\lib\\site-packages (from torchvision->clip==1.0) (1.26.4)\n",
      "Requirement already satisfied: pillow!=8.3.0,>=5.3.0 in d:\\programs\\anaconda\\anaconda\\envs\\test\\lib\\site-packages (from torchvision->clip==1.0) (10.4.0)\n",
      "Requirement already satisfied: colorama in c:\\users\\egypt\\appdata\\roaming\\python\\python39\\site-packages (from tqdm->clip==1.0) (0.4.6)\n",
      "Building wheels for collected packages: clip\n",
      "  Building wheel for clip (setup.py): started\n",
      "  Building wheel for clip (setup.py): finished with status 'done'\n",
      "  Created wheel for clip: filename=clip-1.0-py3-none-any.whl size=1369570 sha256=62c95addecbaab850064d692edfb3d05db9aec32c5a2f1cdcd31e8b3c11d0b32\n",
      "  Stored in directory: C:\\Users\\EGYPT\\AppData\\Local\\Temp\\pip-ephem-wheel-cache-ih6wu0hp\\wheels\\c8\\e4\\e1\\11374c111387672fc2068dfbe0d4b424cb9cdd1b2e184a71b5\n",
      "Successfully built clip\n",
      "Installing collected packages: clip\n",
      "Successfully installed clip-1.0\n"
     ]
    },
    {
     "name": "stderr",
     "output_type": "stream",
     "text": [
      "  Running command git clone --filter=blob:none --quiet https://github.com/openai/CLIP.git 'C:\\Users\\EGYPT\\AppData\\Local\\Temp\\pip-req-build-ubv0k7rj'\n",
      "ERROR: pip's dependency resolver does not currently take into account all the packages that are installed. This behaviour is the source of the following dependency conflicts.\n",
      "torchaudio 0.10.1 requires torch==1.10.1, but you have torch 2.6.0 which is incompatible.\n",
      "torchvision 0.11.2 requires torch==1.10.1, but you have torch 2.6.0 which is incompatible.\n"
     ]
    },
    {
     "name": "stdout",
     "output_type": "stream",
     "text": [
      "^C\n"
     ]
    }
   ],
   "source": [
    "!pip install ftfy regex tqdm\n",
    "!pip install git+https://github.com/openai/CLIP.git\n",
    "!pip install --upgrade -q accelerate bitsandbytes\n",
    "!pip install git+https://github.com/huggingface/transformers.git\n",
    "from transformers import AutoProcessor, LlavaForConditionalGeneration\n",
    "from transformers import BitsAndBytesConfig\n",
    "import torch\n",
    "import torch.nn as nn\n",
    "from torchvision import transforms, datasets\n",
    "from torch.utils.data import Dataset, DataLoader, random_split\n",
    "import clip\n",
    "from PIL import Image\n",
    "import numpy as np\n",
    "import matplotlib.pyplot as plt\n",
    "import os, json\n",
    "import pandas as pd\n",
    "from tqdm import tqdm\n",
    "from sklearn.linear_model import LogisticRegression\n",
    "from sklearn.metrics import accuracy_score\n",
    "from sklearn.model_selection import train_test_split"
   ]
  },
  {
   "cell_type": "code",
   "execution_count": 2,
   "metadata": {
    "execution": {
     "iopub.execute_input": "2025-03-10T21:12:43.296605Z",
     "iopub.status.busy": "2025-03-10T21:12:43.296000Z",
     "iopub.status.idle": "2025-03-10T21:12:43.304208Z",
     "shell.execute_reply": "2025-03-10T21:12:43.302978Z",
     "shell.execute_reply.started": "2025-03-10T21:12:43.296576Z"
    },
    "trusted": true
   },
   "outputs": [
    {
     "data": {
      "text/plain": [
       "'cuda'"
      ]
     },
     "execution_count": 2,
     "metadata": {},
     "output_type": "execute_result"
    }
   ],
   "source": [
    "device = \"cuda\" if torch.cuda.is_available() else \"cpu\"\n",
    "device"
   ]
  },
  {
   "cell_type": "markdown",
   "metadata": {},
   "source": [
    "# Load Dataset"
   ]
  },
  {
   "cell_type": "code",
   "execution_count": 3,
   "metadata": {
    "execution": {
     "iopub.execute_input": "2025-03-10T21:12:43.306034Z",
     "iopub.status.busy": "2025-03-10T21:12:43.305617Z",
     "iopub.status.idle": "2025-03-10T21:12:43.340181Z",
     "shell.execute_reply": "2025-03-10T21:12:43.339098Z",
     "shell.execute_reply.started": "2025-03-10T21:12:43.305994Z"
    },
    "trusted": true
   },
   "outputs": [],
   "source": [
    "# # Load the CUB-200-2011 dataset\n",
    "# def load_cub_dataset(data_dir):\n",
    "#     images = pd.read_csv(os.path.join(data_dir, 'images.txt'), sep=' ', names=['image_id', 'file_path'])\n",
    "#     labels = pd.read_csv(os.path.join(data_dir, 'image_class_labels.txt'), sep=' ', names=['image_id', 'class_id'])\n",
    "#     classes = pd.read_csv(os.path.join(data_dir, 'classes.txt'), sep=' ', names=['class_id', 'class_name'])\n",
    "#     bounding_boxes = pd.read_csv(os.path.join(data_dir, 'bounding_boxes.txt'), sep=' ', names=['image_id', 'x', 'y', 'width', 'height'])\n",
    "#     part_locs = pd.read_csv(os.path.join(data_dir, 'parts/part_locs.txt'), sep=' ', names=['img_id', 'part_id', 'x', 'y', 'visible'])\n",
    "#     # parts = pd.read_csv(os.path.join(data_dir, 'parts/parts.txt'), delimiter =' ', names=['part_id', 'part_name'])\n",
    "#     parts = pd.read_fwf(os.path.join(data_dir, 'parts/parts.txt'), colspecs=[(0, 2), (2, None)], header=None, names=['part_id', 'part_name'])\n",
    "#     parts_click_locs = pd.read_csv(os.path.join(data_dir, 'parts/part_click_locs.txt'), sep = ' ', names=['image_id', 'part_id', 'x', 'y', 'visible', 'time'])\n",
    "#     attributes = pd.read_csv(os.path.join(data_dir, 'attributes/attributes.txt'), sep = ' ', names=['attribute_id', 'attribute_name'])\n",
    "#     certainties = pd.read_fwf(os.path.join(data_dir, 'attributes/certainties.txt'), colspecs=[(0, 1), (2, None)], names=[\"certainty_id\", \"certainty_name\"])\n",
    "#     image_attribute_labels = pd.read_csv(os.path.join(data_dir, 'attributes/image_attribute_labels.txt'),\n",
    "#                                          # sep = ' ',\n",
    "#                                          names=['image_id', 'attribute_id', 'is_present', 'certainty_id', 'time'],\n",
    "#                                          delim_whitespace=True, usecols=range(5)\n",
    "#                                         )\n",
    "#     return images, labels, classes,  bounding_boxes, parts, part_locs, parts_click_locs, attributes, certainties, image_attribute_labels\n",
    "# data_dir = '/kaggle/input/cub2002011/CUB_200_2011'\n",
    "# images_dir = os.path.join(data_dir, 'images')\n",
    "# parts_dir = os.path.join(data_dir, 'parts')\n",
    "\n",
    "# images, labels, classes, bounding_boxes, parts, part_locs, parts_click_locs, attributes, certainties, image_attribute_labels = load_cub_dataset(data_dir)\n",
    "\n",
    "# print(images.head())\n",
    "# print(labels.head())\n",
    "# print(classes.head())\n",
    "\n",
    "# print(images.shape)\n",
    "# print(labels.shape)\n",
    "# print(classes.shape)"
   ]
  },
  {
   "cell_type": "code",
   "execution_count": 4,
   "metadata": {
    "execution": {
     "iopub.execute_input": "2025-03-10T21:12:43.342204Z",
     "iopub.status.busy": "2025-03-10T21:12:43.341878Z",
     "iopub.status.idle": "2025-03-10T21:12:43.361256Z",
     "shell.execute_reply": "2025-03-10T21:12:43.360232Z",
     "shell.execute_reply.started": "2025-03-10T21:12:43.342177Z"
    },
    "trusted": true
   },
   "outputs": [],
   "source": [
    "# for _, row in images.iterrows():\n",
    "#     print(row['image_id'])\n",
    "#     break"
   ]
  },
  {
   "cell_type": "code",
   "execution_count": 5,
   "metadata": {
    "execution": {
     "iopub.execute_input": "2025-03-10T21:12:43.362911Z",
     "iopub.status.busy": "2025-03-10T21:12:43.362563Z",
     "iopub.status.idle": "2025-03-10T21:12:43.378743Z",
     "shell.execute_reply": "2025-03-10T21:12:43.377617Z",
     "shell.execute_reply.started": "2025-03-10T21:12:43.362884Z"
    },
    "trusted": true
   },
   "outputs": [],
   "source": [
    "# data_transforms = transforms.Compose([\n",
    "#     transforms.Resize((224, 224)),\n",
    "#     transforms.ToTensor(),\n",
    "#     transforms.Normalize(mean=(0.481, 0.457, 0.408), std=(0.268, 0.261, 0.275))\n",
    "# ])\n",
    "\n",
    "# quantization_config = BitsAndBytesConfig(load_in_4bit=True, bnb_4bit_compute_dtype=torch.float16)\n",
    "# llava_model_id = \"llava-hf/llava-1.5-7b-hf\"\n",
    "# llava_processor = AutoProcessor.from_pretrained(llava_model_id)\n",
    "# llava_model  = LlavaForConditionalGeneration.from_pretrained(llava_model_id, quantization_config=quantization_config, device_map=\"auto\")\n",
    "\n",
    "# class CustomDataset(Dataset):\n",
    "#     def __init__(self, data_dir, transform=None, use_llava=True, llava_model = None, llava_processor=None):\n",
    "#         self.transform = transform\n",
    "#         self.image_dir = data_dir\n",
    "#         self.image_paths = []\n",
    "#         self.labels = []\n",
    "#         self.parts_annotations = {}\n",
    "#         self.text_prompts = {}\n",
    "#         self.llava_model = llava_model\n",
    "#         self.llava_processor = llava_processor\n",
    "        \n",
    "#         self.classes = sorted(os.listdir(data_dir))\n",
    "#         self.class_to_idx = {cls_name: idx for idx, cls_name in enumerate(self.classes)}\n",
    "\n",
    "\n",
    "#         start, end = 0, 100\n",
    "\n",
    "#         images_file = os.path.join(os.path.dirname(data_dir), 'images.txt')\n",
    "#         images_df = pd.read_csv(images_file, sep=' ', names=['image_id', 'file_path'], index_col=0)\n",
    "\n",
    "#         parts_file = os.path.join(os.path.dirname(data_dir), 'parts', 'parts.txt')\n",
    "#         parts_df = pd.read_fwf(parts_file, colspecs=[(0, 2), (2, None)], header=None, names=['part_id', 'part_name'])\n",
    "#         parts_df.set_index('part_id', inplace=True)  # Set part_id as index\n",
    "#         self.part_names = parts_df.to_dict()['part_name']  # Convert to dictionary\n",
    "\n",
    "#         part_locs_file = os.path.join(os.path.dirname(data_dir), 'parts', 'part_locs.txt')\n",
    "#         part_locs_df = pd.read_csv(part_locs_file, delim_whitespace=True, names=['image_id', 'part_id', 'x', 'y', 'visible'])\n",
    "\n",
    "#         for _, row in part_locs_df.iterrows():\n",
    "#             if row['visible'] == 1:  \n",
    "#                 image_id = int(row['image_id'])\n",
    "#                 part_id = int(row['part_id'])\n",
    "\n",
    "#                 if part_id in self.part_names:\n",
    "#                     if image_id not in self.parts_annotations:\n",
    "#                         self.parts_annotations[image_id] = []\n",
    "#                     self.parts_annotations[image_id].append({\n",
    "#                         'part_name': self.part_names[part_id],\n",
    "#                         'x': row['x'],\n",
    "#                         'y': row['y']\n",
    "#                     })\n",
    "\n",
    "#         cnt = 0\n",
    "#         for class_name in self.classes:\n",
    "#             class_dir = os.path.join(self.image_dir, class_name)\n",
    "#             if os.path.isdir(class_dir):\n",
    "#                 for img_name in os.listdir(class_dir):\n",
    "#                     if img_name.endswith(('.png', '.jpg', '.jpeg')):\n",
    "#                         img_path = os.path.join(class_dir, img_name)\n",
    "\n",
    "#                         matching_image = images_df[images_df['file_path'] == f\"{class_name}/{img_name}\"]\n",
    "#                         if not matching_image.empty:\n",
    "#                             image_id = int(matching_image.index[0])\n",
    "\n",
    "                            \n",
    "#                             if cnt >= start and cnt :\n",
    "#                                 self.image_paths.append(img_path)\n",
    "#                                 self.labels.append(self.class_to_idx[class_name])\n",
    "\n",
    "#                                 self.parts_annotations[image_id] = self.parts_annotations.get(image_id, [])\n",
    "\n",
    "#                                 if use_llava:\n",
    "#                                     self.text_prompts[image_id] = self.generate_llava_prompt(img_path, self.parts_annotations[image_id], class_name)\n",
    "                                \n",
    "#                             cnt += 1\n",
    "\n",
    "#         with open(f\"text_caps_{start}to{end}\", \"w\") as f:\n",
    "#             json.dump(self.text_prompts, f, idents=4)\n",
    "\n",
    "        \n",
    "                   \n",
    "\n",
    "#     def __len__(self):\n",
    "#         \"\"\"Returns the total number of images\"\"\"\n",
    "#         return len(self.image_paths)\n",
    "\n",
    "#     def __getitem__(self, idx):\n",
    "#         \"\"\"Loads and returns an image, its label, and visible part annotations\"\"\"\n",
    "#         img_path = self.image_paths[idx]\n",
    "#         label = self.labels[idx]\n",
    "\n",
    "#         image = Image.open(img_path).convert(\"RGB\")\n",
    "#         if self.transform:\n",
    "#             image = self.transform(image)\n",
    "\n",
    "#         image_filename = os.path.basename(img_path)\n",
    "#         image_id = list(self.parts_annotations.keys())[idx]  \n",
    "#         parts = self.parts_annotations.get(image_id, []) \n",
    "#         text = self.text_prompts.get(image_id, \"No description available.\")\n",
    "\n",
    "#         return image, torch.tensor(label, dtype=torch.long), parts, text\n",
    "\n",
    "#     def generate_llava_prompt(self, img_path, visible_parts, class_name):\n",
    "\n",
    "#         if not visible_parts:\n",
    "#             return \"No visible parts\"\n",
    "\n",
    "#         prompts = [f\"USER: <image>\\nPlease describe the {part['part_name']} of the bird in the picture in one sentence.\\nASSISTANT:\" for part in visible_parts]\n",
    "#         prompts.append(f\"USER: <image>\\nPlease describe the environment of the image given that the bird is a {class_name}.\\nASSISTANT:\")\n",
    "\n",
    "#         generated_caption = []\n",
    "#         for prompt in prompts:\n",
    "#             image = Image.open(img_path).convert(\"RGB\")\n",
    "#             inputs = self.llava_processor(text=prompt, images=[image], padding=True, return_tensors=\"pt\").to(\"cuda\")\n",
    "#             output = self.llava_model.generate(**inputs, max_new_tokens=1000)\n",
    "#             generated_text = self.llava_processor.batch_decode(output, skip_special_tokens=True)\n",
    "\n",
    "#             for text in generated_text:\n",
    "#                 generated_caption.append(text.split(\"ASSISTANT:\")[-1])\n",
    "\n",
    "#         return \" \".join(generated_caption)\n",
    "        \n",
    "\n",
    "# image_dir = \"/kaggle/input/cub2002011/CUB_200_2011/images\"\n",
    "\n",
    "# custom_dataset = CustomDataset(image_dir, transform=data_transforms, llava_model = llava_model, llava_processor = llava_processor)\n",
    "\n",
    "# sample_image, sample_label, sample_parts, sample_text  = custom_dataset[0]\n",
    "# print(f\"Class Label: {sample_label}, Visible Parts: {sample_parts}\")\n",
    "# print(f\"Llava-Generated Text: {sample_text}\")\n"
   ]
  },
  {
   "cell_type": "code",
   "execution_count": null,
   "metadata": {
    "trusted": true
   },
   "outputs": [],
   "source": [
    "data_transforms = transforms.Compose([\n",
    "    transforms.Resize((224, 224)),\n",
    "    transforms.ToTensor(),\n",
    "    transforms.Normalize(mean=(0.481, 0.457, 0.408), std=(0.268, 0.261, 0.275))\n",
    "])\n",
    "\n",
    "quantization_config = BitsAndBytesConfig(load_in_4bit=True, bnb_4bit_compute_dtype=torch.float16)\n",
    "llava_model_id = \"llava-hf/llava-1.5-7b-hf\"\n",
    "llava_processor = AutoProcessor.from_pretrained(llava_model_id)\n",
    "llava_model  = LlavaForConditionalGeneration.from_pretrained(llava_model_id, quantization_config=quantization_config, device_map=\"auto\")"
   ]
  },
  {
   "cell_type": "code",
   "execution_count": 17,
   "metadata": {
    "execution": {
     "iopub.execute_input": "2025-03-10T21:29:16.786773Z",
     "iopub.status.busy": "2025-03-10T21:29:16.786410Z",
     "iopub.status.idle": "2025-03-10T21:31:54.069362Z",
     "shell.execute_reply": "2025-03-10T21:31:54.067833Z",
     "shell.execute_reply.started": "2025-03-10T21:29:16.786746Z"
    },
    "trusted": true
   },
   "outputs": [
    {
     "name": "stderr",
     "output_type": "stream",
     "text": [
      "Processing Images in batch: 100%|██████████| 5/5 [01:50<00:00, 22.05s/it]\n"
     ]
    },
    {
     "name": "stdout",
     "output_type": "stream",
     "text": [
      "Saved batch: processed_batches/batch_5000_5005.json\n"
     ]
    },
    {
     "name": "stderr",
     "output_type": "stream",
     "text": [
      "Processing Images in batch:  20%|██        | 1/5 [00:39<02:37, 39.35s/it]\n"
     ]
    },
    {
     "ename": "KeyboardInterrupt",
     "evalue": "",
     "output_type": "error",
     "traceback": [
      "\u001b[0;31m---------------------------------------------------------------------------\u001b[0m",
      "\u001b[0;31mKeyboardInterrupt\u001b[0m                         Traceback (most recent call last)",
      "\u001b[0;32m<ipython-input-17-b0241a86c8d6>\u001b[0m in \u001b[0;36m<cell line: 200>\u001b[0;34m()\u001b[0m\n\u001b[1;32m    198\u001b[0m \u001b[0mimage_dir\u001b[0m \u001b[0;34m=\u001b[0m \u001b[0;34m\"/kaggle/input/cub2002011/CUB_200_2011/images\"\u001b[0m\u001b[0;34m\u001b[0m\u001b[0;34m\u001b[0m\u001b[0m\n\u001b[1;32m    199\u001b[0m \u001b[0;34m\u001b[0m\u001b[0m\n\u001b[0;32m--> 200\u001b[0;31m \u001b[0mcustom_dataset\u001b[0m \u001b[0;34m=\u001b[0m \u001b[0mCustomDataset\u001b[0m\u001b[0;34m(\u001b[0m\u001b[0mimage_dir\u001b[0m\u001b[0;34m,\u001b[0m \u001b[0mstart\u001b[0m\u001b[0;34m=\u001b[0m\u001b[0;36m5000\u001b[0m\u001b[0;34m,\u001b[0m \u001b[0mend\u001b[0m \u001b[0;34m=\u001b[0m \u001b[0;36m5010\u001b[0m\u001b[0;34m,\u001b[0m \u001b[0mprocess_batches\u001b[0m\u001b[0;34m=\u001b[0m\u001b[0;32mTrue\u001b[0m\u001b[0;34m,\u001b[0m \u001b[0mtransform\u001b[0m\u001b[0;34m=\u001b[0m\u001b[0mdata_transforms\u001b[0m\u001b[0;34m,\u001b[0m \u001b[0mbatch_size\u001b[0m\u001b[0;34m=\u001b[0m\u001b[0;36m5\u001b[0m\u001b[0;34m)\u001b[0m\u001b[0;34m\u001b[0m\u001b[0;34m\u001b[0m\u001b[0m\n\u001b[0m\u001b[1;32m    201\u001b[0m \u001b[0;34m\u001b[0m\u001b[0m\n\u001b[1;32m    202\u001b[0m \u001b[0;31m# Example usage\u001b[0m\u001b[0;34m\u001b[0m\u001b[0;34m\u001b[0m\u001b[0m\n",
      "\u001b[0;32m<ipython-input-17-b0241a86c8d6>\u001b[0m in \u001b[0;36m__init__\u001b[0;34m(self, data_dir, start, end, process_batches, transform, use_llava, batch_size, save_dir)\u001b[0m\n\u001b[1;32m     43\u001b[0m                     })\n\u001b[1;32m     44\u001b[0m         \u001b[0;32mif\u001b[0m \u001b[0;34m(\u001b[0m\u001b[0mprocess_batches\u001b[0m\u001b[0;34m)\u001b[0m\u001b[0;34m:\u001b[0m\u001b[0;34m\u001b[0m\u001b[0;34m\u001b[0m\u001b[0m\n\u001b[0;32m---> 45\u001b[0;31m             \u001b[0mself\u001b[0m\u001b[0;34m.\u001b[0m\u001b[0mprocess_batches\u001b[0m\u001b[0;34m(\u001b[0m\u001b[0mimages_df\u001b[0m\u001b[0;34m)\u001b[0m\u001b[0;34m\u001b[0m\u001b[0;34m\u001b[0m\u001b[0m\n\u001b[0m\u001b[1;32m     46\u001b[0m \u001b[0;34m\u001b[0m\u001b[0m\n\u001b[1;32m     47\u001b[0m     \u001b[0;31m# def process_batches(self, images_df):\u001b[0m\u001b[0;34m\u001b[0m\u001b[0;34m\u001b[0m\u001b[0m\n",
      "\u001b[0;32m<ipython-input-17-b0241a86c8d6>\u001b[0m in \u001b[0;36mprocess_batches\u001b[0;34m(self, images_df)\u001b[0m\n\u001b[1;32m    120\u001b[0m                 \u001b[0;31m# Generate Llava text\u001b[0m\u001b[0;34m\u001b[0m\u001b[0;34m\u001b[0m\u001b[0m\n\u001b[1;32m    121\u001b[0m                 \u001b[0;32mif\u001b[0m \u001b[0mself\u001b[0m\u001b[0;34m.\u001b[0m\u001b[0muse_llava\u001b[0m\u001b[0;34m:\u001b[0m\u001b[0;34m\u001b[0m\u001b[0;34m\u001b[0m\u001b[0m\n\u001b[0;32m--> 122\u001b[0;31m                     \u001b[0mllava_text\u001b[0m \u001b[0;34m=\u001b[0m \u001b[0mself\u001b[0m\u001b[0;34m.\u001b[0m\u001b[0mgenerate_llava_prompt\u001b[0m\u001b[0;34m(\u001b[0m\u001b[0mimg_path\u001b[0m\u001b[0;34m,\u001b[0m \u001b[0mparts\u001b[0m\u001b[0;34m,\u001b[0m \u001b[0mclass_name\u001b[0m\u001b[0;34m)\u001b[0m\u001b[0;34m\u001b[0m\u001b[0;34m\u001b[0m\u001b[0m\n\u001b[0m\u001b[1;32m    123\u001b[0m                 \u001b[0;32melse\u001b[0m\u001b[0;34m:\u001b[0m\u001b[0;34m\u001b[0m\u001b[0;34m\u001b[0m\u001b[0m\n\u001b[1;32m    124\u001b[0m                     \u001b[0mllava_text\u001b[0m \u001b[0;34m=\u001b[0m \u001b[0;34m\"No description available.\"\u001b[0m\u001b[0;34m\u001b[0m\u001b[0;34m\u001b[0m\u001b[0m\n",
      "\u001b[0;32m<ipython-input-17-b0241a86c8d6>\u001b[0m in \u001b[0;36mgenerate_llava_prompt\u001b[0;34m(self, img_path, visible_parts, class_name)\u001b[0m\n\u001b[1;32m    187\u001b[0m             \u001b[0mimage\u001b[0m \u001b[0;34m=\u001b[0m \u001b[0mImage\u001b[0m\u001b[0;34m.\u001b[0m\u001b[0mopen\u001b[0m\u001b[0;34m(\u001b[0m\u001b[0mimg_path\u001b[0m\u001b[0;34m)\u001b[0m\u001b[0;34m.\u001b[0m\u001b[0mconvert\u001b[0m\u001b[0;34m(\u001b[0m\u001b[0;34m\"RGB\"\u001b[0m\u001b[0;34m)\u001b[0m\u001b[0;34m\u001b[0m\u001b[0;34m\u001b[0m\u001b[0m\n\u001b[1;32m    188\u001b[0m             \u001b[0minputs\u001b[0m \u001b[0;34m=\u001b[0m \u001b[0mllava_processor\u001b[0m\u001b[0;34m(\u001b[0m\u001b[0mtext\u001b[0m\u001b[0;34m=\u001b[0m\u001b[0mprompt\u001b[0m\u001b[0;34m,\u001b[0m \u001b[0mimages\u001b[0m\u001b[0;34m=\u001b[0m\u001b[0;34m[\u001b[0m\u001b[0mimage\u001b[0m\u001b[0;34m]\u001b[0m\u001b[0;34m,\u001b[0m \u001b[0mpadding\u001b[0m\u001b[0;34m=\u001b[0m\u001b[0;32mTrue\u001b[0m\u001b[0;34m,\u001b[0m \u001b[0mreturn_tensors\u001b[0m\u001b[0;34m=\u001b[0m\u001b[0;34m\"pt\"\u001b[0m\u001b[0;34m)\u001b[0m\u001b[0;34m.\u001b[0m\u001b[0mto\u001b[0m\u001b[0;34m(\u001b[0m\u001b[0;34m\"cuda\"\u001b[0m\u001b[0;34m)\u001b[0m\u001b[0;34m\u001b[0m\u001b[0;34m\u001b[0m\u001b[0m\n\u001b[0;32m--> 189\u001b[0;31m             \u001b[0moutput\u001b[0m \u001b[0;34m=\u001b[0m \u001b[0mllava_model\u001b[0m\u001b[0;34m.\u001b[0m\u001b[0mgenerate\u001b[0m\u001b[0;34m(\u001b[0m\u001b[0;34m**\u001b[0m\u001b[0minputs\u001b[0m\u001b[0;34m,\u001b[0m \u001b[0mmax_new_tokens\u001b[0m\u001b[0;34m=\u001b[0m\u001b[0;36m1000\u001b[0m\u001b[0;34m)\u001b[0m\u001b[0;34m\u001b[0m\u001b[0;34m\u001b[0m\u001b[0m\n\u001b[0m\u001b[1;32m    190\u001b[0m             \u001b[0mgenerated_text\u001b[0m \u001b[0;34m=\u001b[0m \u001b[0mllava_processor\u001b[0m\u001b[0;34m.\u001b[0m\u001b[0mbatch_decode\u001b[0m\u001b[0;34m(\u001b[0m\u001b[0moutput\u001b[0m\u001b[0;34m,\u001b[0m \u001b[0mskip_special_tokens\u001b[0m\u001b[0;34m=\u001b[0m\u001b[0;32mTrue\u001b[0m\u001b[0;34m)\u001b[0m\u001b[0;34m\u001b[0m\u001b[0;34m\u001b[0m\u001b[0m\n\u001b[1;32m    191\u001b[0m \u001b[0;34m\u001b[0m\u001b[0m\n",
      "\u001b[0;32m/usr/local/lib/python3.10/dist-packages/torch/utils/_contextlib.py\u001b[0m in \u001b[0;36mdecorate_context\u001b[0;34m(*args, **kwargs)\u001b[0m\n\u001b[1;32m    114\u001b[0m     \u001b[0;32mdef\u001b[0m \u001b[0mdecorate_context\u001b[0m\u001b[0;34m(\u001b[0m\u001b[0;34m*\u001b[0m\u001b[0margs\u001b[0m\u001b[0;34m,\u001b[0m \u001b[0;34m**\u001b[0m\u001b[0mkwargs\u001b[0m\u001b[0;34m)\u001b[0m\u001b[0;34m:\u001b[0m\u001b[0;34m\u001b[0m\u001b[0;34m\u001b[0m\u001b[0m\n\u001b[1;32m    115\u001b[0m         \u001b[0;32mwith\u001b[0m \u001b[0mctx_factory\u001b[0m\u001b[0;34m(\u001b[0m\u001b[0;34m)\u001b[0m\u001b[0;34m:\u001b[0m\u001b[0;34m\u001b[0m\u001b[0;34m\u001b[0m\u001b[0m\n\u001b[0;32m--> 116\u001b[0;31m             \u001b[0;32mreturn\u001b[0m \u001b[0mfunc\u001b[0m\u001b[0;34m(\u001b[0m\u001b[0;34m*\u001b[0m\u001b[0margs\u001b[0m\u001b[0;34m,\u001b[0m \u001b[0;34m**\u001b[0m\u001b[0mkwargs\u001b[0m\u001b[0;34m)\u001b[0m\u001b[0;34m\u001b[0m\u001b[0;34m\u001b[0m\u001b[0m\n\u001b[0m\u001b[1;32m    117\u001b[0m \u001b[0;34m\u001b[0m\u001b[0m\n\u001b[1;32m    118\u001b[0m     \u001b[0;32mreturn\u001b[0m \u001b[0mdecorate_context\u001b[0m\u001b[0;34m\u001b[0m\u001b[0;34m\u001b[0m\u001b[0m\n",
      "\u001b[0;32m/usr/local/lib/python3.10/dist-packages/transformers/generation/utils.py\u001b[0m in \u001b[0;36mgenerate\u001b[0;34m(self, inputs, generation_config, logits_processor, stopping_criteria, prefix_allowed_tokens_fn, synced_gpus, assistant_model, streamer, negative_prompt_ids, negative_prompt_attention_mask, **kwargs)\u001b[0m\n\u001b[1;32m   2248\u001b[0m \u001b[0;34m\u001b[0m\u001b[0m\n\u001b[1;32m   2249\u001b[0m             \u001b[0;31m# 12. run sample (it degenerates to greedy search when `generation_config.do_sample=False`)\u001b[0m\u001b[0;34m\u001b[0m\u001b[0;34m\u001b[0m\u001b[0m\n\u001b[0;32m-> 2250\u001b[0;31m             result = self._sample(\n\u001b[0m\u001b[1;32m   2251\u001b[0m                 \u001b[0minput_ids\u001b[0m\u001b[0;34m,\u001b[0m\u001b[0;34m\u001b[0m\u001b[0;34m\u001b[0m\u001b[0m\n\u001b[1;32m   2252\u001b[0m                 \u001b[0mlogits_processor\u001b[0m\u001b[0;34m=\u001b[0m\u001b[0mprepared_logits_processor\u001b[0m\u001b[0;34m,\u001b[0m\u001b[0;34m\u001b[0m\u001b[0;34m\u001b[0m\u001b[0m\n",
      "\u001b[0;32m/usr/local/lib/python3.10/dist-packages/transformers/generation/utils.py\u001b[0m in \u001b[0;36m_sample\u001b[0;34m(self, input_ids, logits_processor, stopping_criteria, generation_config, synced_gpus, streamer, **model_kwargs)\u001b[0m\n\u001b[1;32m   3225\u001b[0m \u001b[0;34m\u001b[0m\u001b[0m\n\u001b[1;32m   3226\u001b[0m         \u001b[0mis_prefill\u001b[0m \u001b[0;34m=\u001b[0m \u001b[0;32mTrue\u001b[0m\u001b[0;34m\u001b[0m\u001b[0;34m\u001b[0m\u001b[0m\n\u001b[0;32m-> 3227\u001b[0;31m         while self._has_unfinished_sequences(\n\u001b[0m\u001b[1;32m   3228\u001b[0m             \u001b[0mthis_peer_finished\u001b[0m\u001b[0;34m,\u001b[0m \u001b[0msynced_gpus\u001b[0m\u001b[0;34m,\u001b[0m \u001b[0mdevice\u001b[0m\u001b[0;34m=\u001b[0m\u001b[0minput_ids\u001b[0m\u001b[0;34m.\u001b[0m\u001b[0mdevice\u001b[0m\u001b[0;34m,\u001b[0m \u001b[0mcur_len\u001b[0m\u001b[0;34m=\u001b[0m\u001b[0mcur_len\u001b[0m\u001b[0;34m,\u001b[0m \u001b[0mmax_length\u001b[0m\u001b[0;34m=\u001b[0m\u001b[0mmax_length\u001b[0m\u001b[0;34m\u001b[0m\u001b[0;34m\u001b[0m\u001b[0m\n\u001b[1;32m   3229\u001b[0m         ):\n",
      "\u001b[0;32m/usr/local/lib/python3.10/dist-packages/transformers/generation/utils.py\u001b[0m in \u001b[0;36m_has_unfinished_sequences\u001b[0;34m(self, this_peer_finished, synced_gpus, device, cur_len, max_length)\u001b[0m\n\u001b[1;32m   2426\u001b[0m                 \u001b[0;32mif\u001b[0m \u001b[0mthis_peer_finished_flag\u001b[0m\u001b[0;34m.\u001b[0m\u001b[0mitem\u001b[0m\u001b[0;34m(\u001b[0m\u001b[0;34m)\u001b[0m \u001b[0;34m==\u001b[0m \u001b[0;36m0.0\u001b[0m\u001b[0;34m:\u001b[0m\u001b[0;34m\u001b[0m\u001b[0;34m\u001b[0m\u001b[0m\n\u001b[1;32m   2427\u001b[0m                     \u001b[0;32mreturn\u001b[0m \u001b[0;32mFalse\u001b[0m\u001b[0;34m\u001b[0m\u001b[0;34m\u001b[0m\u001b[0m\n\u001b[0;32m-> 2428\u001b[0;31m             \u001b[0;32melif\u001b[0m \u001b[0mthis_peer_finished\u001b[0m\u001b[0;34m:\u001b[0m\u001b[0;34m\u001b[0m\u001b[0;34m\u001b[0m\u001b[0m\n\u001b[0m\u001b[1;32m   2429\u001b[0m                 \u001b[0;32mreturn\u001b[0m \u001b[0;32mFalse\u001b[0m\u001b[0;34m\u001b[0m\u001b[0;34m\u001b[0m\u001b[0m\n\u001b[1;32m   2430\u001b[0m             \u001b[0;32mreturn\u001b[0m \u001b[0;32mTrue\u001b[0m\u001b[0;34m\u001b[0m\u001b[0;34m\u001b[0m\u001b[0m\n",
      "\u001b[0;31mKeyboardInterrupt\u001b[0m: "
     ]
    }
   ],
   "source": [
    "class CustomDataset(Dataset):\n",
    "    def __init__(self, data_dir, start, end, process_batches=True, transform=None, use_llava=True, batch_size=500, save_dir=\"processed_batches\"):\n",
    "        self.transform = transform\n",
    "        self.image_dir = data_dir\n",
    "        self.image_paths = []\n",
    "        self.labels = []\n",
    "        self.parts_annotations = {}\n",
    "        self.text_prompts = {}\n",
    "        self.use_llava = use_llava\n",
    "        self.batch_size = batch_size\n",
    "        self.save_dir = save_dir\n",
    "        self.start_idx = start\n",
    "        self.end_idx = end\n",
    "\n",
    "        os.makedirs(save_dir, exist_ok=True)\n",
    "\n",
    "        self.classes = sorted(os.listdir(data_dir))\n",
    "        self.class_to_idx = {cls_name: idx for idx, cls_name in enumerate(self.classes)}\n",
    "\n",
    "        images_file = os.path.join(os.path.dirname(data_dir), 'images.txt')\n",
    "        images_df = pd.read_csv(images_file, sep=' ', names=['image_id', 'file_path'], index_col=0)\n",
    "\n",
    "        parts_file = os.path.join(os.path.dirname(data_dir), 'parts', 'parts.txt')\n",
    "        parts_df = pd.read_fwf(parts_file, colspecs=[(0, 2), (2, None)], header=None, names=['part_id', 'part_name'])\n",
    "        parts_df.set_index('part_id', inplace=True)\n",
    "        self.part_names = parts_df.to_dict()['part_name']\n",
    "\n",
    "        part_locs_file = os.path.join(os.path.dirname(data_dir), 'parts', 'part_locs.txt')\n",
    "        part_locs_df = pd.read_csv(part_locs_file, sep=r'\\s+', names=['image_id', 'part_id', 'x', 'y', 'visible'])\n",
    "\n",
    "        for _, row in part_locs_df.iterrows():\n",
    "            if row['visible'] == 1:\n",
    "                image_id = int(row['image_id'])\n",
    "                part_id = int(row['part_id'])\n",
    "\n",
    "                if part_id in self.part_names:\n",
    "                    if image_id not in self.parts_annotations:\n",
    "                        self.parts_annotations[image_id] = []\n",
    "                    self.parts_annotations[image_id].append({\n",
    "                        'part_name': self.part_names[part_id],\n",
    "                        'x': row['x'],\n",
    "                        'y': row['y']\n",
    "                    })\n",
    "        if (process_batches):\n",
    "            self.process_batches(images_df)\n",
    "\n",
    "    # def process_batches(self, images_df):\n",
    "    #     \"\"\"Processes images in batches and saves results in separate JSON files.\"\"\"\n",
    "    #     num_images = len(images_df)\n",
    "    #     num_batches = (num_images // self.batch_size) + 1\n",
    "    \n",
    "    #     for batch_idx in range(num_batches):\n",
    "    #         batch_start = batch_idx * self.batch_size\n",
    "    #         batch_end = min(batch_start + self.batch_size, num_images)\n",
    "    \n",
    "    #         batch_file = os.path.join(self.save_dir, f\"batch_{batch_start}_{batch_end}.json\")\n",
    "    \n",
    "    #         # Skip batch if it's already processed\n",
    "    #         if os.path.exists(batch_file):\n",
    "    #             print(f\"Loaded existing batch: {batch_file}\")\n",
    "    #             continue\n",
    "    \n",
    "    #         batch_data = {}\n",
    "    \n",
    "    #         for image_id, row in tqdm(images_df.iloc[batch_start:batch_end].iterrows(),total=batch_end - batch_start, desc=\"Processing Images in batch\"):\n",
    "    #             file_path = row['file_path']\n",
    "    #             class_name = file_path.split('/')[0]  # Extract class name from path\n",
    "    #             img_path = os.path.join(self.image_dir, file_path)\n",
    "    \n",
    "    #             # Get part annotations (if available)\n",
    "    #             parts = self.parts_annotations.get(image_id, [])\n",
    "    \n",
    "    #             # Generate Llava text\n",
    "    #             if self.use_llava:\n",
    "    #                 llava_text = self.generate_llava_prompt(img_path, parts, class_name)\n",
    "    #             else:\n",
    "    #                 llava_text = \"No description available.\"\n",
    "    \n",
    "    #             # Store full dataset info\n",
    "    #             batch_data[str(image_id)] = {\n",
    "    #                 \"image_path\": img_path,\n",
    "    #                 \"class_label\": class_name,\n",
    "    #                 \"parts\": parts,\n",
    "    #                 \"llava_text\": llava_text\n",
    "    #             }\n",
    "    \n",
    "    #         # Save batch to JSON\n",
    "    #         with open(batch_file, \"w\") as f:\n",
    "    #             json.dump(batch_data, f, indent=4)\n",
    "    \n",
    "    #         print(f\"Saved batch: {batch_file}\")\n",
    "\n",
    "            # exit()\n",
    "\n",
    "    def process_batches(self, images_df):\n",
    "        \"\"\"Processes images in batches and saves results in separate JSON files.\"\"\"\n",
    "        num_images = self.end_idx - self.start_idx\n",
    "        num_batches = (num_images // self.batch_size) + 1\n",
    "    \n",
    "        for batch_idx in range(num_batches):\n",
    "            batch_start = batch_idx * self.batch_size + self.start_idx\n",
    "            batch_end = min(batch_start + self.batch_size, len(images_df))\n",
    "            batch_file = os.path.join(self.save_dir, f\"batch_{batch_start}_{batch_end}.json\")\n",
    "    \n",
    "            # Skip batch if it's already processed\n",
    "            # if os.path.exists(batch_file):\n",
    "            #     print(f\"Loaded existing batch: {batch_file}\")\n",
    "            #     continue\n",
    "    \n",
    "            batch_data = {}\n",
    "    \n",
    "            for image_id, row in tqdm(images_df.iloc[batch_start:batch_end].iterrows(),total=batch_end - batch_start, desc=\"Processing Images in batch\"):\n",
    "                file_path = row['file_path']\n",
    "                class_name = file_path.split('/')[0]  # Extract class name from path\n",
    "                img_path = os.path.join(self.image_dir, file_path)\n",
    "    \n",
    "                # Get part annotations (if available)\n",
    "                parts = self.parts_annotations.get(image_id, [])\n",
    "    \n",
    "                # Generate Llava text\n",
    "                if self.use_llava:\n",
    "                    llava_text = self.generate_llava_prompt(img_path, parts, class_name)\n",
    "                else:\n",
    "                    llava_text = \"No description available.\"\n",
    "    \n",
    "                # Store full dataset info\n",
    "                batch_data[str(image_id)] = {\n",
    "                    \"image_path\": img_path,\n",
    "                    \"class_label\": class_name,\n",
    "                    \"parts\": parts,\n",
    "                    \"llava_text\": llava_text\n",
    "                }\n",
    "    \n",
    "            # Save batch to JSON\n",
    "            with open(batch_file, \"w\") as f:\n",
    "                json.dump(batch_data, f, indent=4)\n",
    "    \n",
    "            print(f\"Saved batch: {batch_file}\")\n",
    "\n",
    "\n",
    "    def __len__(self):\n",
    "        \"\"\"Returns the total number of images\"\"\"\n",
    "        return len(self.text_prompts)  # Load only processed data\n",
    "\n",
    "    def __getitem__(self, idx):\n",
    "        \"\"\"Loads an image, its label, parts, and saved Llava text from JSON.\"\"\"\n",
    "        img_path = self.image_paths[idx]\n",
    "        label = self.labels[idx]\n",
    "    \n",
    "        # Load and preprocess image\n",
    "        image = Image.open(img_path).convert(\"RGB\")\n",
    "        if self.transform:\n",
    "            image = self.transform(image)\n",
    "    \n",
    "        # Retrieve image ID\n",
    "        image_id = list(self.parts_annotations.keys())[idx]\n",
    "    \n",
    "        # Load saved batch file and extract metadata\n",
    "        batch_file = os.path.join(self.save_dir, f\"batch_{image_id // self.batch_size * self.batch_size}_{(image_id // self.batch_size + 1) * self.batch_size}.json\")\n",
    "    \n",
    "        if os.path.exists(batch_file):\n",
    "            with open(batch_file, \"r\") as f:\n",
    "                batch_data = json.load(f)\n",
    "            image_data = batch_data.get(str(image_id), {})\n",
    "    \n",
    "            parts = image_data.get(\"parts\", [])\n",
    "            text = image_data.get(\"llava_text\", \"No description available.\")\n",
    "        else:\n",
    "            parts = self.parts_annotations.get(image_id, [])\n",
    "            text = \"No description available.\"\n",
    "    \n",
    "        return image, torch.tensor(label, dtype=torch.long), parts, text\n",
    "\n",
    "\n",
    "    def generate_llava_prompt(self, img_path, visible_parts, class_name):\n",
    "        \"\"\"Generates a text description for an image using Llava\"\"\"\n",
    "        if not visible_parts:\n",
    "            return f\"Describe the bird in the picture. It is a {class_name}.\"\n",
    "\n",
    "        prompts = [f\"USER: <image>\\nPlease describe the {part['part_name']} of the bird in the picture in one sentence.\\nASSISTANT:\" for part in visible_parts]\n",
    "        prompts.append(f\"USER: <image>\\nPlease describe the environment of the image given that the bird is a {class_name}.\\nASSISTANT:\")\n",
    "\n",
    "        # Generate text\n",
    "        generated_caption = []\n",
    "        for prompt in prompts:\n",
    "            # print(\"caps\")\n",
    "            image = Image.open(img_path).convert(\"RGB\")\n",
    "            inputs = llava_processor(text=prompt, images=[image], padding=True, return_tensors=\"pt\").to(\"cuda\")\n",
    "            output = llava_model.generate(**inputs, max_new_tokens=1000)\n",
    "            generated_text = llava_processor.batch_decode(output, skip_special_tokens=True)\n",
    "\n",
    "            for text in generated_text:\n",
    "                generated_caption.append(text.split(\"ASSISTANT:\")[-1])\n",
    "\n",
    "        return \" \".join(generated_caption)\n",
    "\n",
    "\n",
    "image_dir = \"/kaggle/input/cub2002011/CUB_200_2011/images\"\n",
    "\n",
    "custom_dataset = CustomDataset(image_dir, start=5000, end = 5010,\n",
    "                               process_batches=True, transform=data_transforms, batch_size=5)\n",
    "\n",
    "# Example usage\n",
    "# sample_image, sample_label, sample_parts, sample_text = custom_dataset[0]\n",
    "# print(f\"Class Label: {sample_label}, Visible Parts: {sample_parts}\")\n",
    "# print(f\"Llava-Generated Text: {sample_text}\")\n"
   ]
  },
  {
   "cell_type": "code",
   "execution_count": null,
   "metadata": {
    "execution": {
     "iopub.status.busy": "2025-03-09T22:01:28.015207Z",
     "iopub.status.idle": "2025-03-09T22:01:28.015563Z",
     "shell.execute_reply": "2025-03-09T22:01:28.015407Z"
    },
    "trusted": true
   },
   "outputs": [],
   "source": [
    "dataset_size = len(custom_dataset)\n",
    "train_size = int(0.8 * dataset_size)\n",
    "test_size = dataset_size - train_size\n",
    "\n",
    "train_dataset, test_dataset = random_split(custom_dataset, [train_size, test_size])\n",
    "\n",
    "train_dataloader = DataLoader(train_dataset, batch_size=32, shuffle=True)\n",
    "\n",
    "test_dataloader = DataLoader(test_dataset, batch_size=32, shuffle=False)\n",
    "class_names = custom_dataset.classes  # List of class names (e.g., bird species)\n",
    "num_classes = len(class_names)\n",
    "print(\"loaded\")"
   ]
  },
  {
   "cell_type": "markdown",
   "metadata": {},
   "source": [
    "## CLIP"
   ]
  },
  {
   "cell_type": "code",
   "execution_count": 8,
   "metadata": {
    "execution": {
     "iopub.execute_input": "2025-03-09T20:42:26.248009Z",
     "iopub.status.busy": "2025-03-09T20:42:26.247692Z",
     "iopub.status.idle": "2025-03-09T20:42:33.339572Z",
     "shell.execute_reply": "2025-03-09T20:42:33.338876Z",
     "shell.execute_reply.started": "2025-03-09T20:42:26.247979Z"
    },
    "trusted": true
   },
   "outputs": [
    {
     "name": "stderr",
     "output_type": "stream",
     "text": [
      "100%|████████████████████████████████████████| 338M/338M [00:02<00:00, 154MiB/s]\n"
     ]
    }
   ],
   "source": [
    "model, preprocess = clip.load(\"ViT-B/32\", device=device)"
   ]
  },
  {
   "cell_type": "code",
   "execution_count": null,
   "metadata": {
    "execution": {
     "iopub.status.busy": "2025-03-09T22:01:28.016165Z",
     "iopub.status.idle": "2025-03-09T22:01:28.016437Z",
     "shell.execute_reply": "2025-03-09T22:01:28.016320Z"
    },
    "trusted": true
   },
   "outputs": [],
   "source": [
    "def get_clip_img_features(img_path):\n",
    "    image = preprocess(Image.open(img_path)).unsqueeze(0).to(device)\n",
    "    with torch.no_grad():\n",
    "        img_features = model.encode_image(image).cpu().numpy()\n",
    "    return img_features\n",
    "\n",
    "def get_clip_text_features(text):\n",
    "    text_inputs = clip.tokenize([text]).to(device)\n",
    "    with torch.no_grad():\n",
    "        text_features = model.encode_text(text_inputs).cpu().numpy()\n",
    "    return text_features\n",
    "\n",
    "def get_cosine_similarity(img_features: torch.Tensor, txt_features: torch.Tensor) -> torch.Tensor:\n",
    "    \"\"\"\n",
    "    Computes the cosine similarity between image and text feature tensors.\n",
    "    \n",
    "    Parameters:\n",
    "    img_features (torch.Tensor): Feature tensor for the image.\n",
    "    txt_features (torch.Tensor): Feature tensor for the text.\n",
    "\n",
    "    Returns:\n",
    "    torch.Tensor: Cosine similarity score between -1 and 1.\n",
    "    \"\"\"\n",
    "\n",
    "    img_features = img_features.squeeze()\n",
    "    txt_features = txt_features.squeeze()\n",
    "    \n",
    "    # Compute dot product\n",
    "    dot_product = torch.dot(img_features, txt_features)\n",
    "    \n",
    "    # Compute L2 norms\n",
    "    norm_img = torch.norm(img_features, p=2)\n",
    "    norm_txt = torch.norm(txt_features, p=2)\n",
    "    \n",
    "    # Avoid division by zero\n",
    "    if norm_img == 0 or norm_txt == 0:\n",
    "        return torch.tensor(0.0)  # Handle zero-vector cases\n",
    "    \n",
    "    # Compute cosine similarity\n",
    "    similarity = dot_product / (norm_img * norm_txt)\n",
    "    \n",
    "    return similarity.item()\n",
    "\n",
    "def chunking_llava(text, img_path, window_size=77):\n",
    "    img_features = get_clip_img_features(img_path)\n",
    "    sentences = [sentence.strip() for sentence in text.split('.') if sentence.strip()]\n",
    "    similarity_score_avg = 0\n",
    "    for sentence in sentences:\n",
    "        text_features = get_clip_text_features(sentence)\n",
    "        similarity_score = get_cosine_similarity(img_features, text_features)\n",
    "        similarity_score_avg += similarity_score\n",
    "    similarity_score_avg /= len(sentences)\n",
    "    return similarity_score_avg"
   ]
  },
  {
   "cell_type": "code",
   "execution_count": null,
   "metadata": {
    "_kg_hide-output": true,
    "execution": {
     "iopub.status.busy": "2025-03-09T22:01:28.017131Z",
     "iopub.status.idle": "2025-03-09T22:01:28.017417Z",
     "shell.execute_reply": "2025-03-09T22:01:28.017314Z"
    },
    "trusted": true
   },
   "outputs": [],
   "source": [
    "def extract_embeddings(dataloader, model, device):\n",
    "    image_embeds = []\n",
    "    labels_list = []\n",
    "    captions = []\n",
    "    text_embeds = []\n",
    "    \n",
    "    with torch.no_grad():\n",
    "        for imgs, labels, _, text in dataloader:\n",
    "\n",
    "            labels_list.extend(labels.numpy())\n",
    "\n",
    "            \n",
    "            image_embeds_temp = np.vstack([get_clip_img_features(img_path) for img_path in imgs])\n",
    "            image_embeds.append(img_embedding_temp)\n",
    "\n",
    "            text_embeds_temp =  np.vstack([chunking_llava(texts[i], img_path=None)[0] for i in range(len(texts))])\n",
    "            text_embeds.append(text_embedding_batch)\n",
    "\n",
    "    image_embeds = np.vstack(image_embeds)\n",
    "    text_embeds = np.vstack(text_embeds)\n",
    "    labels_list = np.array(labels_list)\n",
    "    \n",
    "    return image_embeds, text_embeds, labels_list\n",
    "\n",
    "# Extract embeddings for train, validation, and test sets\n",
    "train_image_embeds, train_text_embeds, train_labels = extract_embeddings(train_dataloader, model, device)\n",
    "test_image_embeds,test_text_embeds, test_labels = extract_embeddings(test_dataloader, model, device)\n",
    "\n",
    "# train_combined = np.vhstack((train_image_embeds, train_text_embeds)\n",
    "\n",
    "# Print embedding shapes\n",
    "print(f\"Train: {train_embeds.shape[0]} images with embeddings of size {train_embeds.shape[1]}\")\n",
    "print(f\"Test: {test_embeds.shape[0]} images with embeddings of size {test_embeds.shape[1]}\")\n"
   ]
  },
  {
   "cell_type": "code",
   "execution_count": null,
   "metadata": {
    "execution": {
     "iopub.execute_input": "2025-03-09T17:55:24.405746Z",
     "iopub.status.busy": "2025-03-09T17:55:24.405357Z",
     "iopub.status.idle": "2025-03-09T17:55:24.437219Z",
     "shell.execute_reply": "2025-03-09T17:55:24.436415Z",
     "shell.execute_reply.started": "2025-03-09T17:55:24.405720Z"
    },
    "trusted": true
   },
   "outputs": [],
   "source": [
    "np.save('train_embeds.npy', train_embeds)\n",
    "np.save('test_embeds.npy', test_embeds)\n",
    "np.save('train_labels.npy', train_labels)\n",
    "np.save('test_labels.npy', test_labels)"
   ]
  },
  {
   "cell_type": "markdown",
   "metadata": {},
   "source": [
    "## Classifier"
   ]
  },
  {
   "cell_type": "code",
   "execution_count": null,
   "metadata": {
    "execution": {
     "iopub.execute_input": "2025-03-09T17:55:24.438746Z",
     "iopub.status.busy": "2025-03-09T17:55:24.438468Z",
     "iopub.status.idle": "2025-03-09T17:56:13.852583Z",
     "shell.execute_reply": "2025-03-09T17:56:13.851730Z",
     "shell.execute_reply.started": "2025-03-09T17:55:24.438714Z"
    },
    "trusted": true
   },
   "outputs": [],
   "source": [
    "clf = LogisticRegression(max_iter=1000, solver=\"lbfgs\", multi_class=\"multinomial\")\n",
    "clf.fit(train_embeds, train_labels)\n",
    "\n",
    "train_preds = clf.predict(train_embeds)\n",
    "test_preds = clf.predict(test_embeds)\n",
    "\n",
    "# Compute accuracy for each set\n",
    "train_acc = accuracy_score(train_labels, train_preds)\n",
    "test_acc = accuracy_score(test_labels, test_preds)\n",
    "\n",
    "# Print results\n",
    "print(f\"Train Accuracy: {train_acc:.4f}\")\n",
    "print(f\"Test Accuracy: {test_acc:.4f}\")"
   ]
  },
  {
   "cell_type": "code",
   "execution_count": null,
   "metadata": {
    "execution": {
     "iopub.execute_input": "2025-03-09T17:58:05.140856Z",
     "iopub.status.busy": "2025-03-09T17:58:05.140435Z",
     "iopub.status.idle": "2025-03-09T17:58:05.149764Z",
     "shell.execute_reply": "2025-03-09T17:58:05.148756Z",
     "shell.execute_reply.started": "2025-03-09T17:58:05.140827Z"
    },
    "trusted": true
   },
   "outputs": [],
   "source": [
    "import joblib\n",
    "\n",
    "# Save the trained model\n",
    "joblib.dump(clf, \"logistic_regression_model.pkl\")"
   ]
  },
  {
   "cell_type": "code",
   "execution_count": null,
   "metadata": {
    "execution": {
     "iopub.execute_input": "2025-03-09T18:10:46.304772Z",
     "iopub.status.busy": "2025-03-09T18:10:46.304348Z",
     "iopub.status.idle": "2025-03-09T18:10:46.310229Z",
     "shell.execute_reply": "2025-03-09T18:10:46.309210Z",
     "shell.execute_reply.started": "2025-03-09T18:10:46.304741Z"
    },
    "trusted": true
   },
   "outputs": [],
   "source": [
    "def baseline(img_path):\n",
    "    with torch.no_grad():\n",
    "        img = Image.open(img_path).convert('RGB')\n",
    "        img = data_transforms(img)  # Apply transformations\n",
    "        img = img.unsqueeze(0).to(device)  # Add batch dimension\n",
    "        features = model.encode_image(img).cpu().numpy()\n",
    "        pred_class = clf.predict(features)\n",
    "        return pred_class[0]"
   ]
  },
  {
   "cell_type": "code",
   "execution_count": null,
   "metadata": {
    "execution": {
     "iopub.execute_input": "2025-03-09T18:16:29.381416Z",
     "iopub.status.busy": "2025-03-09T18:16:29.381016Z",
     "iopub.status.idle": "2025-03-09T18:16:29.544799Z",
     "shell.execute_reply": "2025-03-09T18:16:29.543940Z",
     "shell.execute_reply.started": "2025-03-09T18:16:29.381382Z"
    },
    "trusted": true
   },
   "outputs": [],
   "source": [
    "img_id = 800\n",
    "img_path = os.path.join(images_dir, images[images['image_id'] == img_id]['file_path'].iloc[0])\n",
    "img = Image.open(img_path)\n",
    "\n",
    "class_id = labels[labels['image_id'] == img_id]['class_id'].iloc[0]\n",
    "class_name = \" \".join(classes[classes['class_id'] == class_id]['class_name'].iloc[0][4:].split('_'))\n",
    "print(f'Class: {class_name}')\n",
    "\n",
    "pred_class = baseline(img_path)\n",
    "pred_class_name = \" \".join(classes[classes['class_id'] == pred_class + 1]['class_name'].iloc[0][4:].split('_'))\n",
    "print(f'Pred Class: {pred_class_name}')\n",
    "\n",
    "image = Image.open(img_path)\n",
    "plt.imshow(image)\n",
    "plt.axis('off')\n",
    "plt.show()"
   ]
  }
 ],
 "metadata": {
  "kaggle": {
   "accelerator": "gpu",
   "dataSources": [
    {
     "datasetId": 2534241,
     "sourceId": 5140550,
     "sourceType": "datasetVersion"
    }
   ],
   "dockerImageVersionId": 30919,
   "isGpuEnabled": true,
   "isInternetEnabled": true,
   "language": "python",
   "sourceType": "notebook"
  },
  "kernelspec": {
   "display_name": "Python 3",
   "language": "python",
   "name": "python3"
  },
  "language_info": {
   "codemirror_mode": {
    "name": "ipython",
    "version": 3
   },
   "file_extension": ".py",
   "mimetype": "text/x-python",
   "name": "python",
   "nbconvert_exporter": "python",
   "pygments_lexer": "ipython3",
   "version": "3.9.20"
  }
 },
 "nbformat": 4,
 "nbformat_minor": 4
}
