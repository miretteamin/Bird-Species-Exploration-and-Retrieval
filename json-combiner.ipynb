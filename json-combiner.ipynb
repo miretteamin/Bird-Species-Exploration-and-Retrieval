{
 "cells": [
  {
   "cell_type": "code",
   "execution_count": 32,
   "metadata": {},
   "outputs": [],
   "source": [
    "import os\n",
    "import json\n",
    "import numpy as np"
   ]
  },
  {
   "cell_type": "code",
   "execution_count": 41,
   "metadata": {},
   "outputs": [
    {
     "ename": "IndexError",
     "evalue": "index 11788 is out of bounds for axis 0 with size 11788",
     "output_type": "error",
     "traceback": [
      "\u001b[1;31m---------------------------------------------------------------------------\u001b[0m",
      "\u001b[1;31mIndexError\u001b[0m                                Traceback (most recent call last)",
      "Cell \u001b[1;32mIn[41], line 2\u001b[0m\n\u001b[0;32m      1\u001b[0m clip_embeds_imgs \u001b[38;5;241m=\u001b[39m np\u001b[38;5;241m.\u001b[39mload(\u001b[38;5;124m'\u001b[39m\u001b[38;5;124m./data/clip_embeds_imgs.npy\u001b[39m\u001b[38;5;124m'\u001b[39m)\n\u001b[1;32m----> 2\u001b[0m \u001b[38;5;28mprint\u001b[39m(\u001b[43mclip_embeds_imgs\u001b[49m\u001b[43m[\u001b[49m\u001b[38;5;241;43m11788\u001b[39;49m\u001b[43m]\u001b[49m)\n",
      "\u001b[1;31mIndexError\u001b[0m: index 11788 is out of bounds for axis 0 with size 11788"
     ]
    }
   ],
   "source": [
    "clip_embeds_imgs = np.load('./data/clip_embeds_imgs.npy')\n",
    "print(clip_embeds_imgs[11788])"
   ]
  },
  {
   "cell_type": "code",
   "execution_count": 29,
   "metadata": {},
   "outputs": [
    {
     "name": "stdout",
     "output_type": "stream",
     "text": [
      "set()\n",
      "0\n"
     ]
    }
   ],
   "source": [
    "json_path = './data/llava_captions.json'\n",
    "with open(json_path, 'r') as f:\n",
    "    data = json.load(f)\n",
    "    count = set(int(k) for k in data.keys()) \n",
    "not_run = set(range(1, 11788)) - count\n",
    "print(not_run)\n",
    "print(len(not_run))\n",
    "with open('not_run.txt','w') as f:\n",
    "    for i in not_run:\n",
    "        f.write(f'{i}\\n')"
   ]
  },
  {
   "cell_type": "code",
   "execution_count": 25,
   "metadata": {},
   "outputs": [
    {
     "name": "stdout",
     "output_type": "stream",
     "text": [
      "11788\n"
     ]
    }
   ],
   "source": [
    "json_path = './data/Processed Batches/'\n",
    "merged_data = dict()\n",
    "for file_name in os.listdir(json_path):\n",
    "    with open(os.path.join(json_path, file_name), 'r') as f:\n",
    "        data = json.load(f)\n",
    "        merged_data.update(data)\n",
    "print(len(merged_data))\n",
    "with open(\"./data/llava_captions.json\", \"w\") as f:\n",
    "    json.dump(merged_data, f, indent=4)"
   ]
  },
  {
   "cell_type": "code",
   "execution_count": 31,
   "metadata": {},
   "outputs": [
    {
     "name": "stdout",
     "output_type": "stream",
     "text": [
      "11788\n",
      "1 11788\n"
     ]
    }
   ],
   "source": [
    "with open('./data/llava_captions.json', 'r') as f:\n",
    "    data = json.load(f)\n",
    "    print(len(data))\n",
    "    keys = np.array([int(x) for x in list(data.keys())])\n",
    "print(keys.min(), keys.max())"
   ]
  }
 ],
 "metadata": {
  "kernelspec": {
   "display_name": "AI_generic",
   "language": "python",
   "name": "python3"
  },
  "language_info": {
   "codemirror_mode": {
    "name": "ipython",
    "version": 3
   },
   "file_extension": ".py",
   "mimetype": "text/x-python",
   "name": "python",
   "nbconvert_exporter": "python",
   "pygments_lexer": "ipython3",
   "version": "3.9.21"
  }
 },
 "nbformat": 4,
 "nbformat_minor": 2
}
