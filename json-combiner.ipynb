{
 "cells": [
  {
   "cell_type": "code",
   "execution_count": 4,
   "metadata": {},
   "outputs": [],
   "source": [
    "import os\n",
    "import json\n",
    "import numpy as np"
   ]
  },
  {
   "cell_type": "code",
   "execution_count": 5,
   "metadata": {},
   "outputs": [],
   "source": [
    "json_path = './tmp/'"
   ]
  },
  {
   "cell_type": "code",
   "execution_count": 6,
   "metadata": {},
   "outputs": [
    {
     "name": "stdout",
     "output_type": "stream",
     "text": [
      "0: batch_6500_6500.json\n",
      "set()\n",
      "0\n"
     ]
    }
   ],
   "source": [
    "count = set()\n",
    "for file_name in os.listdir(json_path):\n",
    "    with open(os.path.join(json_path, file_name), 'r') as f:\n",
    "        data = json.load(f)\n",
    "        if (len(data) == 0):\n",
    "            print(f'0: {file_name}')\n",
    "        keys = np.array([int(x) for x in list(data.keys())])\n",
    "        for k in keys:\n",
    "            count.add(k)\n",
    "        # print(f'{file_name}, Num entries: {len(keys)}, Min: {np.min(keys)}, Max: {np.max(keys)}')\n",
    "# print(f'Count: {len(count)}')\n",
    "not_run = set(range(1, 11788)) - count\n",
    "print(not_run)\n",
    "print(len(not_run))\n",
    "with open('not_run.txt','w') as f:\n",
    "    for i in not_run:\n",
    "        f.write(f'{i}\\n')"
   ]
  },
  {
   "cell_type": "code",
   "execution_count": 7,
   "metadata": {},
   "outputs": [
    {
     "name": "stdout",
     "output_type": "stream",
     "text": [
      "11788\n"
     ]
    }
   ],
   "source": [
    "merged_data = dict()\n",
    "for file_name in os.listdir(json_path):\n",
    "    with open(os.path.join(json_path, file_name), 'r') as f:\n",
    "        data = json.load(f)\n",
    "        merged_data.update(data)\n",
    "print(len(merged_data))\n",
    "with open(\"./tmp/merged.json\", \"w\") as f:\n",
    "    json.dump(merged_data, f, indent=4)"
   ]
  },
  {
   "cell_type": "code",
   "execution_count": 8,
   "metadata": {},
   "outputs": [
    {
     "name": "stdout",
     "output_type": "stream",
     "text": [
      "9788\n",
      "1 11788\n"
     ]
    }
   ],
   "source": [
    "with open('./tmp/merged.json', 'r') as f:\n",
    "    data = json.load(f)\n",
    "    print(len(data))\n",
    "    keys = np.array([int(x) for x in list(data.keys())])\n",
    "print(keys.min(), keys.max())"
   ]
  },
  {
   "cell_type": "code",
   "execution_count": 7,
   "metadata": {},
   "outputs": [
    {
     "name": "stdout",
     "output_type": "stream",
     "text": [
      "1100\n",
      "1 1200\n"
     ]
    }
   ],
   "source": [
    "with open('./Processed Batches/batch_0_1000.json', 'r') as f:\n",
    "    data = json.load(f)\n",
    "    print(len(data))\n",
    "    keys = np.array([int(x) for x in list(data.keys())])\n",
    "print(keys.min(), keys.max())"
   ]
  }
 ],
 "metadata": {
  "kernelspec": {
   "display_name": "AI_generic",
   "language": "python",
   "name": "python3"
  },
  "language_info": {
   "codemirror_mode": {
    "name": "ipython",
    "version": 3
   },
   "file_extension": ".py",
   "mimetype": "text/x-python",
   "name": "python",
   "nbconvert_exporter": "python",
   "pygments_lexer": "ipython3",
   "version": "3.9.21"
  }
 },
 "nbformat": 4,
 "nbformat_minor": 2
}
