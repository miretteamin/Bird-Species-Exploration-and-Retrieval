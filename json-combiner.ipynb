{
 "cells": [
  {
   "cell_type": "markdown",
   "metadata": {},
   "source": [
    "```\n",
    "We ran on multiple accounts of Colab and Kaggle the generation of llava captions for the whole dataset of batch size = 100 and the we downloaded all the batches output.\n",
    "So, this notebook was just to combine all the outputs in one json file called \"llava_captions.json\" in the folder \"data\".\n",
    "```"
   ]
  },
  {
   "cell_type": "code",
   "execution_count": 32,
   "metadata": {},
   "outputs": [],
   "source": [
    "import os\n",
    "import json\n",
    "import numpy as np"
   ]
  },
  {
   "cell_type": "code",
   "execution_count": null,
   "metadata": {},
   "outputs": [],
   "source": [
    "clip_embeds_imgs = np.load('./data/clip_embeds_imgs.npy')\n",
    "print(clip_embeds_imgs[11788])"
   ]
  },
  {
   "cell_type": "code",
   "execution_count": 29,
   "metadata": {},
   "outputs": [
    {
     "name": "stdout",
     "output_type": "stream",
     "text": [
      "set()\n",
      "0\n"
     ]
    }
   ],
   "source": [
    "json_path = './data/llava_captions.json'\n",
    "with open(json_path, 'r') as f:\n",
    "    data = json.load(f)\n",
    "    count = set(int(k) for k in data.keys()) \n",
    "not_run = set(range(1, 11788)) - count\n",
    "print(not_run)\n",
    "print(len(not_run))\n",
    "with open('not_run.txt','w') as f:\n",
    "    for i in not_run:\n",
    "        f.write(f'{i}\\n')"
   ]
  },
  {
   "cell_type": "code",
   "execution_count": 25,
   "metadata": {},
   "outputs": [
    {
     "name": "stdout",
     "output_type": "stream",
     "text": [
      "11788\n"
     ]
    }
   ],
   "source": [
    "json_path = './data/Processed Batches/'\n",
    "merged_data = dict()\n",
    "for file_name in os.listdir(json_path):\n",
    "    with open(os.path.join(json_path, file_name), 'r') as f:\n",
    "        data = json.load(f)\n",
    "        merged_data.update(data)\n",
    "print(len(merged_data))\n",
    "with open(\"./data/llava_captions.json\", \"w\") as f:\n",
    "    json.dump(merged_data, f, indent=4)"
   ]
  },
  {
   "cell_type": "code",
   "execution_count": 31,
   "metadata": {},
   "outputs": [
    {
     "name": "stdout",
     "output_type": "stream",
     "text": [
      "11788\n",
      "1 11788\n"
     ]
    }
   ],
   "source": [
    "with open('./data/llava_captions.json', 'r') as f:\n",
    "    data = json.load(f)\n",
    "    print(len(data))\n",
    "    keys = np.array([int(x) for x in list(data.keys())])\n",
    "print(keys.min(), keys.max())"
   ]
  }
 ],
 "metadata": {
  "kernelspec": {
   "display_name": "AI_generic",
   "language": "python",
   "name": "python3"
  },
  "language_info": {
   "codemirror_mode": {
    "name": "ipython",
    "version": 3
   },
   "file_extension": ".py",
   "mimetype": "text/x-python",
   "name": "python",
   "nbconvert_exporter": "python",
   "pygments_lexer": "ipython3",
   "version": "3.9.21"
  }
 },
 "nbformat": 4,
 "nbformat_minor": 2
}
