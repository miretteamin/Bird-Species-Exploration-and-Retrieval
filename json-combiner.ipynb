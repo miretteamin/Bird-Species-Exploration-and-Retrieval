{
 "cells": [
  {
   "cell_type": "code",
   "execution_count": 1,
   "metadata": {},
   "outputs": [],
   "source": [
    "import os\n",
    "import json\n",
    "import numpy as np"
   ]
  },
  {
   "cell_type": "code",
   "execution_count": 2,
   "metadata": {},
   "outputs": [],
   "source": [
    "json_path = './tmp/'"
   ]
  },
  {
   "cell_type": "code",
   "execution_count": 20,
   "metadata": {},
   "outputs": [
    {
     "name": "stdout",
     "output_type": "stream",
     "text": [
      "1900\n"
     ]
    }
   ],
   "source": [
    "merged_data = dict()\n",
    "for file_name in os.listdir(json_path):\n",
    "    with open(os.path.join(json_path, file_name), 'r') as f:\n",
    "        data = json.load(f)\n",
    "        merged_data.update(data)\n",
    "print(len(merged_data))\n",
    "with open(\"./tmp/merged.json\", \"w\") as f:\n",
    "    json.dump(merged_data, f, indent=4)"
   ]
  },
  {
   "cell_type": "code",
   "execution_count": 7,
   "metadata": {},
   "outputs": [
    {
     "name": "stdout",
     "output_type": "stream",
     "text": [
      "1900\n",
      "1 2000\n"
     ]
    }
   ],
   "source": [
    "with open('./tmp/merged.json', 'r') as f:\n",
    "    data = json.load(f)\n",
    "    print(len(data))\n",
    "    keys = np.array([int(x) for x in list(data.keys())])\n",
    "print(keys.min(), keys.max())"
   ]
  },
  {
   "cell_type": "code",
   "execution_count": 9,
   "metadata": {},
   "outputs": [
    {
     "name": "stdout",
     "output_type": "stream",
     "text": [
      "1100\n",
      "1 1200\n"
     ]
    }
   ],
   "source": [
    "with open('./tmp/batch_0_1000.json', 'r') as f:\n",
    "    data = json.load(f)\n",
    "    print(len(data))\n",
    "    keys = np.array([int(x) for x in list(data.keys())])\n",
    "print(keys.min(), keys.max())"
   ]
  }
 ],
 "metadata": {
  "kernelspec": {
   "display_name": "Python 3",
   "language": "python",
   "name": "python3"
  },
  "language_info": {
   "codemirror_mode": {
    "name": "ipython",
    "version": 3
   },
   "file_extension": ".py",
   "mimetype": "text/x-python",
   "name": "python",
   "nbconvert_exporter": "python",
   "pygments_lexer": "ipython3",
   "version": "3.9.21"
  }
 },
 "nbformat": 4,
 "nbformat_minor": 2
}
