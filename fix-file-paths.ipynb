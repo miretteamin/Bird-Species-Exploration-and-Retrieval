{
 "cells": [
  {
   "cell_type": "code",
   "execution_count": 7,
   "metadata": {},
   "outputs": [],
   "source": [
    "import os\n",
    "import pandas as pd\n",
    "import json\n",
    "import numpy as np"
   ]
  },
  {
   "cell_type": "code",
   "execution_count": 8,
   "metadata": {},
   "outputs": [
    {
     "name": "stdout",
     "output_type": "stream",
     "text": [
      "   image_id                                          file_path\n",
      "0         1  001.Black_footed_Albatross/Black_Footed_Albatr...\n",
      "1         2  001.Black_footed_Albatross/Black_Footed_Albatr...\n",
      "2         3  001.Black_footed_Albatross/Black_Footed_Albatr...\n",
      "3         4  001.Black_footed_Albatross/Black_Footed_Albatr...\n",
      "4         5  001.Black_footed_Albatross/Black_Footed_Albatr...\n",
      "   image_id  class_id\n",
      "0         1         1\n",
      "1         2         1\n",
      "2         3         1\n",
      "3         4         1\n",
      "4         5         1\n",
      "   class_id                  class_name\n",
      "0         1  001.Black_footed_Albatross\n",
      "1         2        002.Laysan_Albatross\n",
      "2         3         003.Sooty_Albatross\n",
      "3         4       004.Groove_billed_Ani\n",
      "4         5          005.Crested_Auklet\n",
      "(11788, 2)\n",
      "(11788, 2)\n",
      "(200, 2)\n"
     ]
    }
   ],
   "source": [
    "# Load the CUB-200-2011 dataset\n",
    "def load_cub_dataset(data_dir):\n",
    "    images = pd.read_csv(os.path.join(data_dir, 'images.txt'), sep=' ', names=['image_id', 'file_path'])\n",
    "    labels = pd.read_csv(os.path.join(data_dir, 'image_class_labels.txt'), sep=' ', names=['image_id', 'class_id'])\n",
    "    classes = pd.read_csv(os.path.join(data_dir, 'classes.txt'), sep=' ', names=['class_id', 'class_name'])\n",
    "    return images, labels, classes\n",
    "data_dir = 'data'\n",
    "\n",
    "images, labels, classes = load_cub_dataset(data_dir)\n",
    "\n",
    "print(images.head())\n",
    "print(labels.head())\n",
    "print(classes.head())\n",
    "\n",
    "print(images.shape)\n",
    "print(labels.shape)\n",
    "print(classes.shape)"
   ]
  },
  {
   "cell_type": "code",
   "execution_count": 9,
   "metadata": {},
   "outputs": [
    {
     "name": "stdout",
     "output_type": "stream",
     "text": [
      "11788\n"
     ]
    }
   ],
   "source": [
    "json_path = './data/llava_captions.json'\n",
    "\n",
    "with open(json_path, 'r') as f:\n",
    "    data = json.load(f)\n",
    "    keys = np.array([int(x) for x in list(data.keys())])\n",
    "    for k, v in data.items():\n",
    "        idx = int(k)\n",
    "        if idx < 0 or idx >= len(images):\n",
    "            print(idx)\n",
    "        image_path = images[images['image_id'] == idx]['file_path'].iloc[0]\n",
    "        v['image_path'] = image_path\n",
    "    \n",
    "with open(json_path, 'w') as f:\n",
    "    json.dump(data, f, indent=4)\n",
    "    "
   ]
  }
 ],
 "metadata": {
  "kernelspec": {
   "display_name": "AI_generic",
   "language": "python",
   "name": "python3"
  },
  "language_info": {
   "codemirror_mode": {
    "name": "ipython",
    "version": 3
   },
   "file_extension": ".py",
   "mimetype": "text/x-python",
   "name": "python",
   "nbconvert_exporter": "python",
   "pygments_lexer": "ipython3",
   "version": "3.9.21"
  }
 },
 "nbformat": 4,
 "nbformat_minor": 2
}
