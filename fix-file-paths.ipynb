{
 "cells": [
  {
   "cell_type": "code",
   "execution_count": 1,
   "metadata": {},
   "outputs": [],
   "source": [
    "import os\n",
    "import pandas as pd\n",
    "import json"
   ]
  },
  {
   "cell_type": "code",
   "execution_count": 2,
   "metadata": {},
   "outputs": [
    {
     "name": "stdout",
     "output_type": "stream",
     "text": [
      "   image_id                                          file_path\n",
      "0         1  001.Black_footed_Albatross/Black_Footed_Albatr...\n",
      "1         2  001.Black_footed_Albatross/Black_Footed_Albatr...\n",
      "2         3  001.Black_footed_Albatross/Black_Footed_Albatr...\n",
      "3         4  001.Black_footed_Albatross/Black_Footed_Albatr...\n",
      "4         5  001.Black_footed_Albatross/Black_Footed_Albatr...\n",
      "   image_id  class_id\n",
      "0         1         1\n",
      "1         2         1\n",
      "2         3         1\n",
      "3         4         1\n",
      "4         5         1\n",
      "   class_id                  class_name\n",
      "0         1  001.Black_footed_Albatross\n",
      "1         2        002.Laysan_Albatross\n",
      "2         3         003.Sooty_Albatross\n",
      "3         4       004.Groove_billed_Ani\n",
      "4         5          005.Crested_Auklet\n",
      "(11788, 2)\n",
      "(11788, 2)\n",
      "(200, 2)\n"
     ]
    }
   ],
   "source": [
    "# Load the CUB-200-2011 dataset\n",
    "def load_cub_dataset(data_dir):\n",
    "    images = pd.read_csv(os.path.join(data_dir, 'images.txt'), sep=' ', names=['image_id', 'file_path'])\n",
    "    labels = pd.read_csv(os.path.join(data_dir, 'image_class_labels.txt'), sep=' ', names=['image_id', 'class_id'])\n",
    "    classes = pd.read_csv(os.path.join(data_dir, 'classes.txt'), sep=' ', names=['class_id', 'class_name'])\n",
    "    return images, labels, classes\n",
    "data_dir = 'data'\n",
    "\n",
    "images, labels, classes = load_cub_dataset(data_dir)\n",
    "\n",
    "print(images.head())\n",
    "print(labels.head())\n",
    "print(classes.head())\n",
    "\n",
    "print(images.shape)\n",
    "print(labels.shape)\n",
    "print(classes.shape)"
   ]
  },
  {
   "cell_type": "code",
   "execution_count": null,
   "metadata": {},
   "outputs": [
    {
     "data": {
      "text/html": [
       "<div>\n",
       "<style scoped>\n",
       "    .dataframe tbody tr th:only-of-type {\n",
       "        vertical-align: middle;\n",
       "    }\n",
       "\n",
       "    .dataframe tbody tr th {\n",
       "        vertical-align: top;\n",
       "    }\n",
       "\n",
       "    .dataframe thead th {\n",
       "        text-align: right;\n",
       "    }\n",
       "</style>\n",
       "<table border=\"1\" class=\"dataframe\">\n",
       "  <thead>\n",
       "    <tr style=\"text-align: right;\">\n",
       "      <th></th>\n",
       "      <th>image_id</th>\n",
       "      <th>file_path</th>\n",
       "    </tr>\n",
       "  </thead>\n",
       "  <tbody>\n",
       "    <tr>\n",
       "      <th>0</th>\n",
       "      <td>1</td>\n",
       "      <td>001.Black_footed_Albatross/Black_Footed_Albatr...</td>\n",
       "    </tr>\n",
       "    <tr>\n",
       "      <th>1</th>\n",
       "      <td>2</td>\n",
       "      <td>001.Black_footed_Albatross/Black_Footed_Albatr...</td>\n",
       "    </tr>\n",
       "    <tr>\n",
       "      <th>2</th>\n",
       "      <td>3</td>\n",
       "      <td>001.Black_footed_Albatross/Black_Footed_Albatr...</td>\n",
       "    </tr>\n",
       "    <tr>\n",
       "      <th>3</th>\n",
       "      <td>4</td>\n",
       "      <td>001.Black_footed_Albatross/Black_Footed_Albatr...</td>\n",
       "    </tr>\n",
       "    <tr>\n",
       "      <th>4</th>\n",
       "      <td>5</td>\n",
       "      <td>001.Black_footed_Albatross/Black_Footed_Albatr...</td>\n",
       "    </tr>\n",
       "    <tr>\n",
       "      <th>...</th>\n",
       "      <td>...</td>\n",
       "      <td>...</td>\n",
       "    </tr>\n",
       "    <tr>\n",
       "      <th>11783</th>\n",
       "      <td>11784</td>\n",
       "      <td>200.Common_Yellowthroat/Common_Yellowthroat_00...</td>\n",
       "    </tr>\n",
       "    <tr>\n",
       "      <th>11784</th>\n",
       "      <td>11785</td>\n",
       "      <td>200.Common_Yellowthroat/Common_Yellowthroat_00...</td>\n",
       "    </tr>\n",
       "    <tr>\n",
       "      <th>11785</th>\n",
       "      <td>11786</td>\n",
       "      <td>200.Common_Yellowthroat/Common_Yellowthroat_00...</td>\n",
       "    </tr>\n",
       "    <tr>\n",
       "      <th>11786</th>\n",
       "      <td>11787</td>\n",
       "      <td>200.Common_Yellowthroat/Common_Yellowthroat_00...</td>\n",
       "    </tr>\n",
       "    <tr>\n",
       "      <th>11787</th>\n",
       "      <td>11788</td>\n",
       "      <td>200.Common_Yellowthroat/Common_Yellowthroat_00...</td>\n",
       "    </tr>\n",
       "  </tbody>\n",
       "</table>\n",
       "<p>11788 rows × 2 columns</p>\n",
       "</div>"
      ],
      "text/plain": [
       "       image_id                                          file_path\n",
       "0             1  001.Black_footed_Albatross/Black_Footed_Albatr...\n",
       "1             2  001.Black_footed_Albatross/Black_Footed_Albatr...\n",
       "2             3  001.Black_footed_Albatross/Black_Footed_Albatr...\n",
       "3             4  001.Black_footed_Albatross/Black_Footed_Albatr...\n",
       "4             5  001.Black_footed_Albatross/Black_Footed_Albatr...\n",
       "...         ...                                                ...\n",
       "11783     11784  200.Common_Yellowthroat/Common_Yellowthroat_00...\n",
       "11784     11785  200.Common_Yellowthroat/Common_Yellowthroat_00...\n",
       "11785     11786  200.Common_Yellowthroat/Common_Yellowthroat_00...\n",
       "11786     11787  200.Common_Yellowthroat/Common_Yellowthroat_00...\n",
       "11787     11788  200.Common_Yellowthroat/Common_Yellowthroat_00...\n",
       "\n",
       "[11788 rows x 2 columns]"
      ]
     },
     "execution_count": 8,
     "metadata": {},
     "output_type": "execute_result"
    }
   ],
   "source": []
  },
  {
   "cell_type": "code",
   "execution_count": 21,
   "metadata": {},
   "outputs": [
    {
     "name": "stderr",
     "output_type": "stream",
     "text": [
      "C:\\Users\\EGYPT\\AppData\\Local\\Temp\\ipykernel_5760\\3367204013.py:6: FutureWarning: Series.__getitem__ treating keys as positions is deprecated. In a future version, integer keys will always be treated as labels (consistent with DataFrame behavior). To access a value by position, use `ser.iloc[pos]`\n",
      "  image_path = images.iloc[int(k)][1]\n"
     ]
    }
   ],
   "source": [
    "json_path = './tmp/batch_0_100.json'\n",
    "\n",
    "with open(json_path, 'r') as f:\n",
    "    data = json.load(f)\n",
    "    for k, v in data.items():\n",
    "        image_path = images.iloc[int(k)][1]\n",
    "        v['image_path'] = image_path\n",
    "    \n",
    "with open(json_path, 'w') as f:\n",
    "    json.dump(data, f, indent=4)\n",
    "    "
   ]
  }
 ],
 "metadata": {
  "kernelspec": {
   "display_name": "AI_generic",
   "language": "python",
   "name": "python3"
  },
  "language_info": {
   "codemirror_mode": {
    "name": "ipython",
    "version": 3
   },
   "file_extension": ".py",
   "mimetype": "text/x-python",
   "name": "python",
   "nbconvert_exporter": "python",
   "pygments_lexer": "ipython3",
   "version": "3.9.21"
  }
 },
 "nbformat": 4,
 "nbformat_minor": 2
}
